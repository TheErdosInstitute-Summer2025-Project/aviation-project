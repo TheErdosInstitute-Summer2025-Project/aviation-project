{
 "cells": [
  {
   "cell_type": "markdown",
   "id": "b906d28e",
   "metadata": {},
   "source": [
    "# NTSB Data Cleaning\n",
    "\n",
    "This notebook cleans the training data in the following ways:\n",
    "- Drops rows with unknown injury counts\n",
    "- Drops sparse columns (> 20% missing)\n",
    "- Drops columns that have been processed and are no longer needed\n",
    "- Fills missing values\n",
    "- Reduces categories\n",
    "    - Manually combine categories for select variables\n",
    "    - Remove categories with < 1% frequency\n",
    "- Creates dummy variables\n",
    "- Feature engineering\n",
    "    - Calculate the number of people onboard and proportions of each injury category"
   ]
  },
  {
   "cell_type": "code",
   "execution_count": 156,
   "id": "7b1fdd2f",
   "metadata": {},
   "outputs": [],
   "source": [
    "import pandas as pd\n",
    "import numpy as np\n",
    "import matplotlib.pyplot as plt"
   ]
  },
  {
   "cell_type": "code",
   "execution_count": 157,
   "id": "448686ea",
   "metadata": {},
   "outputs": [],
   "source": [
    "data = pd.read_csv(\"../data/ntsb/cleaned/master_train.csv\")"
   ]
  },
  {
   "cell_type": "code",
   "execution_count": 158,
   "id": "931c69f0",
   "metadata": {},
   "outputs": [],
   "source": [
    "# Drop rows with unknown event injury totals (19 rows in the train data)\n",
    "data = data.loc[~data['ev_inj_tot_t'].isna()]\n",
    "\n",
    "# Drop planes in multi-aircraft accidents with unknown injury counts\n",
    "# Right now this leaves the other aircraft in the data\n",
    "# Commented out line drops both aircraft from the data\n",
    "\n",
    "acft_missing_counts_keys = data.loc[data['acft_total_person_count'].isna(), 'event_key']\n",
    "\n",
    "for ev in acft_missing_counts_keys:\n",
    "    key = ev[:-1]+'2' # suffix 2 indicates a multi-aircraft accident\n",
    "    if key in data['event_key'].values:\n",
    "\n",
    "        # Uncomment one of the following two lines\n",
    "        #data = data.loc[~(data['event_key']==ev)]    # Drop aircraft with unknowable injury counts\n",
    "        data = data.loc[~(data['event_key'].str.startswith(ev[:-1]))]    # Drop event with >= 1 aircraft with unknowable injury counts"
   ]
  },
  {
   "cell_type": "markdown",
   "id": "51e5beab",
   "metadata": {},
   "source": [
    "### Drop columns we don't need\n",
    "\n",
    "- The following should be run __before__ drop infrequent values, which fills in missing entries"
   ]
  },
  {
   "cell_type": "code",
   "execution_count": 159,
   "id": "c103236f",
   "metadata": {},
   "outputs": [
    {
     "name": "stdout",
     "output_type": "stream",
     "text": [
      "on_ground_collision 0.974\n",
      "wind_vel_kts 0.211\n",
      "inj_f_grnd 0.972\n",
      "inj_m_grnd 0.974\n",
      "inj_s_grnd 0.974\n",
      "owner_acft 0.426\n",
      "oprtng_cert 1.0\n",
      "oper_cert 1.0\n",
      "evacuation 1.0\n",
      "rwy_len 0.474\n",
      "rwy_width 0.475\n",
      "acft_year 0.516\n",
      "fuel_on_board 0.71\n"
     ]
    }
   ],
   "source": [
    "## Show columns where the proportion of non-empty entries is less than 0.8\n",
    "\n",
    "for col in data.columns:\n",
    "    pna = data[col].isna().sum() / len(data)\n",
    "    if pna > 0.2 :\n",
    "        print(col, round(pna,3))"
   ]
  },
  {
   "cell_type": "code",
   "execution_count": 160,
   "id": "3982660d",
   "metadata": {},
   "outputs": [],
   "source": [
    "def drop_sparse_columns(data, threshold, safe_cols=None):\n",
    "    '''\n",
    "    Drops columns from data that do not contain at least a given proportion of non-empty entries\n",
    "    \n",
    "    Inputs\n",
    "        data: pandas DataFrame\n",
    "        threshold: float in [0,1], all columns with less than this proportion of non-empty entries are dropped\n",
    "        safe_cols: list of names of columns that should not be dropped even if they are below the sparsity threshold\n",
    "    Outputs\n",
    "        data: same DataFrame with appropriate columns dropped\n",
    "    '''\n",
    "    # list of columns to drop if they are too sparse\n",
    "    unsafe_cols = [col for col in data.columns if col not in safe_cols]\n",
    "\n",
    "    for col in unsafe_cols:\n",
    "        # calculate proportion of na entries in col\n",
    "        prop_na = data[col].isna().sum() / len(data)\n",
    "        \n",
    "        # drop col if the column is too sparse\n",
    "        if prop_na > 1 - threshold:\n",
    "            data.drop(columns=col, inplace=True)\n",
    "    \n",
    "    return data"
   ]
  },
  {
   "cell_type": "code",
   "execution_count": 161,
   "id": "292306e4",
   "metadata": {},
   "outputs": [],
   "source": [
    "data = drop_sparse_columns(data, 0.8, safe_cols=['damage', 'acft_category', 'acft_make'])"
   ]
  },
  {
   "cell_type": "code",
   "execution_count": 162,
   "id": "52e33a1e",
   "metadata": {},
   "outputs": [
    {
     "data": {
      "text/plain": [
       "\"\\nChanged ntsb_table_join.ipynb so the following aren't read in\\n\\n# Possible data leakage\\ndata.drop(columns=['acft_fire', 'acft_expl'], inplace=True)\\ndata.drop(columns=['Environmental issues', 'Organizational issues', 'Personnel issues'], inplace=True)\\n\\n# Probably not relevant (ev_time seemingly boils down to light_cond)\\ndata.drop(columns=['wx_dew_pt', 'type_fly', 'ev_time'], inplace=True)\\n\""
      ]
     },
     "execution_count": 162,
     "metadata": {},
     "output_type": "execute_result"
    }
   ],
   "source": [
    "# Already processed\n",
    "data.drop(columns=[#'Aircraft',     # no longer in data. I'm not sure why though? I don't see where it previously was\n",
    "                   'Aircraft_Key', \n",
    "                   'ev_id', \n",
    "                   #'finding_description'    # no longer in data\n",
    "                   'total_seats'], inplace=True)\n",
    "\n",
    "# (Almost) all rows have same value\n",
    "data.drop(columns=['certs_held', 'unmanned'], inplace=True)\n",
    "\n",
    "'''\n",
    "Changed ntsb_table_join.ipynb so the following aren't read in\n",
    "\n",
    "# Possible data leakage\n",
    "data.drop(columns=['acft_fire', 'acft_expl'], inplace=True)\n",
    "data.drop(columns=['Environmental issues', 'Organizational issues', 'Personnel issues'], inplace=True)\n",
    "\n",
    "# Probably not relevant (ev_time seemingly boils down to light_cond)\n",
    "data.drop(columns=['wx_dew_pt', 'type_fly', 'ev_time'], inplace=True)\n",
    "'''"
   ]
  },
  {
   "cell_type": "markdown",
   "id": "be2922c8",
   "metadata": {},
   "source": [
    "### Handling missing values"
   ]
  },
  {
   "cell_type": "markdown",
   "id": "fb723047",
   "metadata": {},
   "source": [
    "- Oddly, `gust_kts` is 100% present but `wind_vel_kts` is ~20% missing. When `wind_vel_kts` is missing, `gust_kts` is 0 more than 99% of the time, which probably means that 0 is entered by default when it's unknown"
   ]
  },
  {
   "cell_type": "markdown",
   "id": "9dd8f0df",
   "metadata": {},
   "source": [
    "### Imputing values\n",
    "\n",
    "Categorical\n",
    "- Target variables (does it ever make sense to impute a target variable, or should we just omit from the dataset / performance metrics?)\n",
    "  - `damage`: guess based on injury severity \n",
    "  - `ev_highest_injury`: calculate from injury counts\n",
    "- All others: 'other/unknown'\n",
    "\n",
    "Numerical\n",
    "- `num_eng`: find max number of passengers on a 1-engine aircraft, impute 1 for aircraft with at most this many passengers, 2 for aircraft with more passengers"
   ]
  },
  {
   "cell_type": "code",
   "execution_count": 163,
   "id": "cfc6c7de",
   "metadata": {},
   "outputs": [],
   "source": [
    "# Commenting this out so we can preserve data for when we predict injuries\n",
    "\n",
    "## Imputing `damage` value\n",
    "## Since approximately 3.9% of the entries in the damage column are missing, we choose to drop these rows.\n",
    "# data = data.loc[~data['damage'].isna()]"
   ]
  },
  {
   "cell_type": "code",
   "execution_count": 164,
   "id": "55cf2726",
   "metadata": {},
   "outputs": [],
   "source": [
    "## Imputing other categorical values\n",
    "\n",
    "for col in data.columns:\n",
    "    mask = data[col].isna()\n",
    "    if any(mask) and data[col].dtype == 'object':\n",
    "        data.loc[mask,col] = data[mask][col].replace(np.nan,'other/unknown')"
   ]
  },
  {
   "cell_type": "code",
   "execution_count": 165,
   "id": "42579a9b",
   "metadata": {},
   "outputs": [],
   "source": [
    "## Imputing findings\n",
    "\n",
    "# data[['Environmental issues', 'Organizational issues', 'Personnel issues']] = data[['Environmental issues', 'Organizational issues', 'Personnel issues']].fillna(0)"
   ]
  },
  {
   "cell_type": "code",
   "execution_count": 166,
   "id": "fba8497b",
   "metadata": {},
   "outputs": [],
   "source": [
    "## Filling in missing aircraft-level injury counts\n",
    "\n",
    "count = {\n",
    "    'acft_fatal_count': 'ev_inj_tot_f',\n",
    "    'acft_minor_count': 'ev_inj_tot_m',\n",
    "    'acft_none_count': 'ev_inj_tot_n',\n",
    "    'acft_serious_count': 'ev_inj_tot_s'\n",
    "}\n",
    "\n",
    "for missing_col, present_col in count.items():\n",
    "    data.loc[data[missing_col].isna(), missing_col] = data.loc[data[missing_col].isna(), present_col]\n",
    "\n",
    "data['acft_total_person_count'] = data[count.keys()].sum(axis=1)\n",
    "data['acft_injured_person_count'] = data['acft_total_person_count'] - data['acft_none_count']"
   ]
  },
  {
   "cell_type": "code",
   "execution_count": 167,
   "id": "428a8cc4",
   "metadata": {},
   "outputs": [],
   "source": [
    "## There is only one examples of one-engine aircraft with more than 15 people on board, which is such an outlier\n",
    "## that it's probably a typo.\n",
    "## A slightly more principled way of doing this would be to fit a logistic regression\n",
    "\n",
    "## Imputing value 1 into 'num_eng' if the total seats is less than 15, imputing 2 otherwise\n",
    "data.loc[(data['num_eng'].isna())& (data['acft_total_person_count']<=15), 'num_eng'] = 1\n",
    "data.loc[(data['num_eng'].isna())& (data['acft_total_person_count']>15), 'num_eng'] = 2"
   ]
  },
  {
   "cell_type": "markdown",
   "id": "9b07bed2",
   "metadata": {},
   "source": [
    "### Category reduction and dummy variables"
   ]
  },
  {
   "cell_type": "markdown",
   "id": "4fbc73bb",
   "metadata": {},
   "source": [
    "#### Manual category reduction\n",
    "\n",
    "Before we reduce infrequent values to 'other/unknown', there may be cases where we can combine categories in a more intelligent way:\n",
    "- `BroadPhaseOfFlight`\n",
    "- `acft_category`: group based on size?\n",
    "- `far_part`: would require some research\n",
    "- `light_cond`: maybe combine all conditions other than DAYL and NITE into a 'partial light' category (would have to check what all of the abbreviations mean)"
   ]
  },
  {
   "cell_type": "code",
   "execution_count": 168,
   "id": "7b353084",
   "metadata": {},
   "outputs": [],
   "source": [
    "# Reducing categories for BroadPhaseofFlight\n",
    "\n",
    "phase_dict = {\n",
    "    'Landing': 'Landing',\n",
    "    'Enroute': 'Air',\n",
    "    'Maneuvering': 'Air',\n",
    "    'Takeoff': 'Takeoff',\n",
    "    'Approach': 'Landing', # or 'Air'\n",
    "    'Initial Climb': 'Takeoff',\n",
    "    'Taxi': 'Ground',\n",
    "    'Standing': 'Ground',\n",
    "    'Emergency Descent': 'Air', # or 'Landing'\n",
    "    'Uncontrolled Descent': 'Air', # or 'Landing'\n",
    "    'Pushback/Tow': 'Ground',\n",
    "    'Post-Impact': 'Ground',\n",
    "    'Unknown': 'Unknown',\n",
    "    'other/unknown': 'Unknown'\n",
    "}\n",
    "\n",
    "data['BroadPhaseofFlight'] = data['BroadPhaseofFlight'].apply(lambda x: phase_dict[x])"
   ]
  },
  {
   "cell_type": "code",
   "execution_count": 169,
   "id": "089ead5c",
   "metadata": {},
   "outputs": [],
   "source": [
    "# combine varied spellings of the same aircraft make\n",
    "\n",
    "data['acft_make'] = data['acft_make'].str.lower()\n",
    "\n",
    "common_names = ['cessna','piper','boeing','mooney','robinson helicopter']\n",
    "for name in common_names:\n",
    "    data.loc[data['acft_make'].str.startswith(name),'acft_make'] = name\n",
    "\n",
    "data.loc[data['acft_make']=='robinson','acft_make'] = 'robinson helicopter'\n",
    "data.loc[data['acft_make'].str.startswith('bell helicopter'),'acft_make'] = 'bell'"
   ]
  },
  {
   "cell_type": "markdown",
   "id": "8a33ce5a",
   "metadata": {},
   "source": [
    "#### Checking altimeter variable for validity"
   ]
  },
  {
   "cell_type": "code",
   "execution_count": 170,
   "id": "98e74d60",
   "metadata": {},
   "outputs": [
    {
     "data": {
      "image/png": "[encoded data removed]",
      "text/plain": [
       "<Figure size 640x480 with 1 Axes>"
      ]
     },
     "metadata": {},
     "output_type": "display_data"
    }
   ],
   "source": [
    "data['altimeter'].hist(bins=10000)\n",
    "plt.xlim([0,40])\n",
    "plt.title(\"Altimeter Values\")\n",
    "plt.show()"
   ]
  },
  {
   "cell_type": "code",
   "execution_count": 171,
   "id": "9ba00b02",
   "metadata": {},
   "outputs": [
    {
     "name": "stdout",
     "output_type": "stream",
     "text": [
      "BroadPhaseofFlight\n",
      "Air        27.270658\n",
      "Ground     25.273515\n",
      "Landing    27.303942\n",
      "Takeoff    28.319979\n",
      "Unknown    21.093077\n",
      "Name: altimeter, dtype: float64\n"
     ]
    }
   ],
   "source": [
    "print(data.groupby('BroadPhaseofFlight')['altimeter'].mean())"
   ]
  },
  {
   "cell_type": "code",
   "execution_count": 172,
   "id": "87c047e7",
   "metadata": {},
   "outputs": [
    {
     "name": "stdout",
     "output_type": "stream",
     "text": [
      "BroadPhaseofFlight\n",
      "Air        30.000000\n",
      "Ground     29.969999\n",
      "Landing    30.010000\n",
      "Takeoff    30.010000\n",
      "Unknown    29.920000\n",
      "Name: altimeter, dtype: float64\n"
     ]
    }
   ],
   "source": [
    "print(data.groupby('BroadPhaseofFlight')['altimeter'].median())"
   ]
  },
  {
   "cell_type": "code",
   "execution_count": 173,
   "id": "657a3891",
   "metadata": {},
   "outputs": [
    {
     "name": "stdout",
     "output_type": "stream",
     "text": [
      "BroadPhaseofFlight\n",
      "Air         8.647392\n",
      "Ground     10.949825\n",
      "Landing    39.238662\n",
      "Takeoff    55.980107\n",
      "Unknown    13.777733\n",
      "Name: altimeter, dtype: float64\n"
     ]
    }
   ],
   "source": [
    "print(data.groupby('BroadPhaseofFlight')['altimeter'].std())"
   ]
  },
  {
   "cell_type": "markdown",
   "id": "866b8e15",
   "metadata": {},
   "source": [
    "##### Note:\n",
    "We have very little variation in the altimeter variable, excepting some extreme outliers - otherwise, it varies around 30 and 0 for the most part.  I did some research and found that the altimeter measures altitude through measuring air pressure, but we can't really do this [without also using temperature](https://en.wikipedia.org/wiki/Barometric_formula).\n",
    "\n",
    "##### Verdict:  I think we drop it. It doesn't tell us anything that phase of flight doesn't already tell us, really.\n",
    "\n",
    "\n",
    "#### Days Since Last Inspection"
   ]
  },
  {
   "cell_type": "code",
   "execution_count": 174,
   "id": "bd92e187",
   "metadata": {},
   "outputs": [
    {
     "name": "stderr",
     "output_type": "stream",
     "text": [
      "/var/folders/c8/jr_n0v1x3n52_hpzs9nlqykw0000gn/T/ipykernel_75615/1014186404.py:1: UserWarning: Could not infer format, so each element will be parsed individually, falling back to `dateutil`. To ensure parsing is consistent and as-expected, please specify a format.\n",
      "  data['insp_date'] = pd.to_datetime(data['date_last_insp'].replace('other/unknown',np.nan))\n",
      "/var/folders/c8/jr_n0v1x3n52_hpzs9nlqykw0000gn/T/ipykernel_75615/1014186404.py:2: UserWarning: Could not infer format, so each element will be parsed individually, falling back to `dateutil`. To ensure parsing is consistent and as-expected, please specify a format.\n",
      "  data['event_date'] = pd.to_datetime(data['ev_date'])\n"
     ]
    }
   ],
   "source": [
    "data['insp_date'] = pd.to_datetime(data['date_last_insp'].replace('other/unknown',np.nan))\n",
    "data['event_date'] = pd.to_datetime(data['ev_date'])\n",
    "data['days_since_insp'] = (data['event_date'] - data['insp_date']).dt.days\n",
    "data =data.drop(columns=['date_last_insp','ev_date'])"
   ]
  },
  {
   "cell_type": "code",
   "execution_count": 175,
   "id": "71eabdcd",
   "metadata": {},
   "outputs": [
    {
     "name": "stderr",
     "output_type": "stream",
     "text": [
      "/var/folders/c8/jr_n0v1x3n52_hpzs9nlqykw0000gn/T/ipykernel_75615/2998245143.py:1: FutureWarning: ChainedAssignmentError: behaviour will change in pandas 3.0!\n",
      "You are setting values through chained assignment. Currently this works in certain cases, but when using Copy-on-Write (which will become the default behaviour in pandas 3.0) this will never work to update the original DataFrame or Series, because the intermediate object on which we are setting values will behave as a copy.\n",
      "A typical example is when you are setting values in a column of a DataFrame, like:\n",
      "\n",
      "df[\"col\"][row_indexer] = value\n",
      "\n",
      "Use `df.loc[row_indexer, \"col\"] = values` instead, to perform the assignment in a single step and ensure this keeps updating the original `df`.\n",
      "\n",
      "See the caveats in the documentation: https://pandas.pydata.org/pandas-docs/stable/user_guide/indexing.html#returning-a-view-versus-a-copy\n",
      "\n",
      "  data['days_since_insp'][data['days_since_insp'] < 0] = 0\n",
      "/var/folders/c8/jr_n0v1x3n52_hpzs9nlqykw0000gn/T/ipykernel_75615/2998245143.py:1: SettingWithCopyWarning: \n",
      "A value is trying to be set on a copy of a slice from a DataFrame\n",
      "\n",
      "See the caveats in the documentation: https://pandas.pydata.org/pandas-docs/stable/user_guide/indexing.html#returning-a-view-versus-a-copy\n",
      "  data['days_since_insp'][data['days_since_insp'] < 0] = 0\n"
     ]
    }
   ],
   "source": [
    "data['days_since_insp'][data['days_since_insp'] < 0] = 0"
   ]
  },
  {
   "cell_type": "code",
   "execution_count": 176,
   "id": "4cc41fc9",
   "metadata": {},
   "outputs": [
    {
     "data": {
      "text/plain": [
       "count    10979.000000\n",
       "mean       158.787412\n",
       "std        325.704908\n",
       "min          0.000000\n",
       "25%         30.000000\n",
       "50%        100.000000\n",
       "75%        226.000000\n",
       "max      14084.000000\n",
       "Name: days_since_insp, dtype: float64"
      ]
     },
     "execution_count": 176,
     "metadata": {},
     "output_type": "execute_result"
    }
   ],
   "source": [
    "data['days_since_insp'].describe()"
   ]
  },
  {
   "cell_type": "code",
   "execution_count": 177,
   "id": "55b6856c",
   "metadata": {},
   "outputs": [
    {
     "data": {
      "image/png": "[encoded data removed]",
      "text/plain": [
       "<Figure size 640x480 with 1 Axes>"
      ]
     },
     "metadata": {},
     "output_type": "display_data"
    }
   ],
   "source": [
    "data['days_since_insp'].hist(bins=2000)\n",
    "plt.xlim(-10,1000)\n",
    "plt.show()"
   ]
  },
  {
   "cell_type": "markdown",
   "id": "03d4036e",
   "metadata": {},
   "source": [
    "#### Injury Proportions & Removing Total Seats"
   ]
  },
  {
   "cell_type": "code",
   "execution_count": 178,
   "id": "f137889d",
   "metadata": {},
   "outputs": [
    {
     "name": "stderr",
     "output_type": "stream",
     "text": [
      "/var/folders/c8/jr_n0v1x3n52_hpzs9nlqykw0000gn/T/ipykernel_75615/1164814864.py:1: FutureWarning: ChainedAssignmentError: behaviour will change in pandas 3.0!\n",
      "You are setting values through chained assignment. Currently this works in certain cases, but when using Copy-on-Write (which will become the default behaviour in pandas 3.0) this will never work to update the original DataFrame or Series, because the intermediate object on which we are setting values will behave as a copy.\n",
      "A typical example is when you are setting values in a column of a DataFrame, like:\n",
      "\n",
      "df[\"col\"][row_indexer] = value\n",
      "\n",
      "Use `df.loc[row_indexer, \"col\"] = values` instead, to perform the assignment in a single step and ensure this keeps updating the original `df`.\n",
      "\n",
      "See the caveats in the documentation: https://pandas.pydata.org/pandas-docs/stable/user_guide/indexing.html#returning-a-view-versus-a-copy\n",
      "\n",
      "  data['acft_total_person_count'][data['acft_total_person_count'] == 0] = 1 # Where zero, set to 1\n",
      "/var/folders/c8/jr_n0v1x3n52_hpzs9nlqykw0000gn/T/ipykernel_75615/1164814864.py:1: SettingWithCopyWarning: \n",
      "A value is trying to be set on a copy of a slice from a DataFrame\n",
      "\n",
      "See the caveats in the documentation: https://pandas.pydata.org/pandas-docs/stable/user_guide/indexing.html#returning-a-view-versus-a-copy\n",
      "  data['acft_total_person_count'][data['acft_total_person_count'] == 0] = 1 # Where zero, set to 1\n"
     ]
    }
   ],
   "source": [
    "data['acft_total_person_count'][data['acft_total_person_count'] == 0] = 1 # Where zero, set to 1"
   ]
  },
  {
   "cell_type": "markdown",
   "id": "7fa96c20",
   "metadata": {},
   "source": [
    "#### Automated category reduction\n",
    "\n",
    "We'll reduce categories by reassigning all categories with frequency $< \\alpha$ to 'other/unknown' (for some $\\alpha \\in [0.01, 0.05]$)\n",
    "\n",
    "Note: when we go to build the model, we'll have to make sure we're reducing categories based on their frequency in the training set and NOT based on their frequency in the test set"
   ]
  },
  {
   "cell_type": "code",
   "execution_count": 179,
   "id": "4cf969b3",
   "metadata": {},
   "outputs": [],
   "source": [
    "def reduce_categories_fill_na(data, columns, threshold):\n",
    "    '''\n",
    "    For each of the specified columns, find the values that occur with frequency lower than the threshold,\n",
    "    and replace these values and missing values by 'other/unknown'.\n",
    "    This is only intended for categorical variables\n",
    "    \n",
    "    Inputs\n",
    "        data: pandas DataFrame\n",
    "        columns: list of column names to simplify\n",
    "        threshold: float in [0,1], frequency threshold for removing \n",
    "    Outputs\n",
    "        data: pandas DataFrame\n",
    "    '''\n",
    "\n",
    "    freq_thresh = threshold * len(data)\n",
    "\n",
    "    for col in columns:\n",
    "        counts = data[col].value_counts()\n",
    "        \n",
    "        for i in counts.index:\n",
    "            if counts[i] < freq_thresh:\n",
    "                data.loc[data[col]==i, col] = 'other/unknown'\n",
    "        \n",
    "        data.loc[data[col].isna(), col] = 'other/unknown'\n",
    "\n",
    "    return data"
   ]
  },
  {
   "cell_type": "code",
   "execution_count": 180,
   "id": "52b996a0",
   "metadata": {},
   "outputs": [],
   "source": [
    "categorical_features = ['light_cond', 'BroadPhaseofFlight', 'eng_type', 'far_part', 'acft_make', 'acft_category',\n",
    "                    'homebuilt', 'fixed_retractable', 'second_pilot']\n",
    "# Note: intentionally omitted 'ntsb_no', 'ev_highest_injury', 'Aircraft_ID', 'event_key', \n",
    "#                               'damage', 'acft_model'\n",
    "\n",
    "data = reduce_categories_fill_na(data, categorical_features, 0.01)"
   ]
  },
  {
   "cell_type": "code",
   "execution_count": 181,
   "id": "dadc6174",
   "metadata": {},
   "outputs": [],
   "source": [
    "data = pd.get_dummies(data, columns=categorical_features)"
   ]
  },
  {
   "cell_type": "markdown",
   "id": "19a017d3",
   "metadata": {},
   "source": [
    "### Target engineering"
   ]
  },
  {
   "cell_type": "code",
   "execution_count": 182,
   "id": "9d9f33b6",
   "metadata": {},
   "outputs": [],
   "source": [
    "# Calculate the proportion in each injury level\n",
    "data['acft_prop_inj_n'] =  data['acft_none_count'] / data['acft_total_person_count']\n",
    "data['acft_prop_inj_m'] =  data['acft_minor_count'] / data['acft_total_person_count']\n",
    "data['acft_prop_inj_s'] =  data['acft_serious_count'] / data['acft_total_person_count']\n",
    "data['acft_prop_inj_f'] =  data['acft_fatal_count'] / data['acft_total_person_count']"
   ]
  },
  {
   "cell_type": "markdown",
   "id": "a198fbf7",
   "metadata": {},
   "source": [
    "### Save cleaned data"
   ]
  },
  {
   "cell_type": "code",
   "execution_count": 183,
   "id": "59cf3f43",
   "metadata": {},
   "outputs": [],
   "source": [
    "data.to_csv('../data/ntsb/cleaned/ntsb_train_cleaned.csv', index=False)"
   ]
  }
 ],
 "metadata": {
  "kernelspec": {
   "display_name": "erdos_summer_2025",
   "language": "python",
   "name": "python3"
  },
  "language_info": {
   "codemirror_mode": {
    "name": "ipython",
    "version": 3
   },
   "file_extension": ".py",
   "mimetype": "text/x-python",
   "name": "python",
   "nbconvert_exporter": "python",
   "pygments_lexer": "ipython3",
   "version": "3.12.10"
  }
 },
 "nbformat": 4,
 "nbformat_minor": 5
}
