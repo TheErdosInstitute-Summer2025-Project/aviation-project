{
 "cells": [
  {
   "cell_type": "code",
   "execution_count": 1,
   "id": "a91f639e",
   "metadata": {},
   "outputs": [],
   "source": [
    "import pandas as pd"
   ]
  },
  {
   "cell_type": "markdown",
   "id": "e3cd4f35",
   "metadata": {},
   "source": [
    "# \"Engines\" Data"
   ]
  },
  {
   "cell_type": "code",
   "execution_count": 34,
   "id": "c893b82c",
   "metadata": {},
   "outputs": [],
   "source": [
    "data = pd.read_csv('../data/ntsb/ntsb_engines.csv',usecols=['ev_id',\n",
    "                                                            'Aircraft_Key',\n",
    "                                                            'eng_type',\n",
    "                                                            'eng_no'])\n",
    "data['event_key'] = data['ev_id'].astype(str) + '_' + data['Aircraft_Key'].astype(str)\n",
    "\n",
    "data = data[data['eng_no']==1].drop(columns='eng_no')\n",
    "engine_dummies = pd.get_dummies(data['eng_type'],dtype=int,prefix='engine')\n",
    "\n",
    "engines = pd.concat([data[['event_key','ev_id','Aircraft_Key']],engine_dummies],axis=1)\n",
    "\n",
    "#export.to_csv('../data/ntsb/cleaned/engine_data.csv')"
   ]
  },
  {
   "cell_type": "markdown",
   "id": "869e1151",
   "metadata": {},
   "source": [
    "# \"Aircraft\" Data"
   ]
  },
  {
   "cell_type": "code",
   "execution_count": 36,
   "id": "ded177ea",
   "metadata": {},
   "outputs": [
    {
     "name": "stderr",
     "output_type": "stream",
     "text": [
      "/var/folders/c8/jr_n0v1x3n52_hpzs9nlqykw0000gn/T/ipykernel_4921/3535822329.py:1: DtypeWarning: Columns (0) have mixed types. Specify dtype option on import or set low_memory=False.\n",
      "  data = pd.read_csv('../data/ntsb/ntsb_aircraft.csv',usecols=['ev_id',\n"
     ]
    }
   ],
   "source": [
    "data = pd.read_csv('../data/ntsb/ntsb_aircraft.csv',usecols=['ev_id',\n",
    "                                                             'Aircraft_Key',\n",
    "                                                             'far_part',\n",
    "                                                             'damage',\n",
    "                                                             'acft_fire',\n",
    "                                                             'acft_expl',\n",
    "                                                             'acft_make',\n",
    "                                                             'acft_category',\n",
    "                                                             'homebuilt',\n",
    "                                                             'total_seats',\n",
    "                                                             'num_eng',\n",
    "                                                             'fixed_retractable',\n",
    "                                                             'date_last_insp',\n",
    "                                                             'owner_acft',\n",
    "                                                             'certs_held',\n",
    "                                                             'oprtng_cert',\n",
    "                                                             'oper_cert',\n",
    "                                                             'type_fly',\n",
    "                                                             'second_pilot',\n",
    "                                                             'evacuation',\n",
    "                                                             'rwy_len',\n",
    "                                                             'rwy_width',\n",
    "                                                             'acft_year',\n",
    "                                                             'fuel_on_board',\n",
    "                                                             'unmanned'])\n",
    "\n",
    "\n",
    "data['event_key'] = data['ev_id'].astype(str) + '_' + data['Aircraft_Key'].astype(str)\n",
    "aircraft = data.copy()"
   ]
  },
  {
   "cell_type": "markdown",
   "id": "90828e44",
   "metadata": {},
   "source": [
    "# \"Findings\" Data"
   ]
  },
  {
   "cell_type": "markdown",
   "id": "08107005",
   "metadata": {},
   "source": [
    "# \"Event\" Data"
   ]
  },
  {
   "cell_type": "code",
   "execution_count": 40,
   "id": "b80b90e6",
   "metadata": {},
   "outputs": [
    {
     "name": "stderr",
     "output_type": "stream",
     "text": [
      "/var/folders/c8/jr_n0v1x3n52_hpzs9nlqykw0000gn/T/ipykernel_4921/722889367.py:1: DtypeWarning: Columns (0) have mixed types. Specify dtype option on import or set low_memory=False.\n",
      "  data = pd.read_csv('../data/ntsb/ntsb_events.csv',usecols=['ev_id',\n"
     ]
    }
   ],
   "source": [
    "data = pd.read_csv('../data/ntsb/ntsb_events.csv',usecols=['ev_id',\n",
    "                                                            'ev_type',\n",
    "                                                            'ev_highest_injury',\n",
    "                                                            'inj_f_grnd',\n",
    "                                                            'inj_m_grnd',\n",
    "                                                            'inj_s_grnd',\n",
    "                                                            'inj_tot_f',\n",
    "                                                            'inj_tot_m',\n",
    "                                                            'inj_tot_m',\n",
    "                                                            'inj_tot_n',\n",
    "                                                            'inj_tot_s',\n",
    "                                                            'inj_tot_t',\n",
    "                                                            'ev_time',\n",
    "                                                            'ev_year',\n",
    "                                                            'ev_month',\n",
    "                                                            'on_ground_collision',\n",
    "                                                            'latitude',\n",
    "                                                            'longitude',\n",
    "                                                            'apt_dist',\n",
    "                                                            'light_cond',\n",
    "                                                            'wx_dew_pt',\n",
    "                                                            'wind_vel_kts',\n",
    "                                                            'gust_kts',\n",
    "                                                            'altimeter',\n",
    "                                                            ])"
   ]
  },
  {
   "cell_type": "markdown",
   "id": "62fb5d58",
   "metadata": {},
   "source": [
    "# Joining Event Data with Aircraft-Specific Data\n",
    "To join the primary \"event\" dataset, which is event-specific with the other tables which are aircraft-specific, we need to take a careful approach to how we go about joining them.  The general idea goes as follows:\n",
    "1. Create the \"event_key\" variable in the aircraft-specific datasets, which takes the format '{ev_id}_{Aircraft_Key}'.\n",
    "2. Join the lower-level datasets together to maximize the number of observations.  Some will likely be in one and not another, but what is important is that we collect a list of all individual aircraft-level observations.\n",
    "3. Once all lower-level datasets have been joined together and we have a list of all events with multiple aircraft, we can export a \"aircraft_count\" variable which expresses the number of \"Aircraft_Key\" for every \"ev_id.\"  \n",
    "4. Join this \"aircraft_count\" column into the \"Event\" dataset - now we have a count of how many planes were involved in each event.\n",
    "5. Create a function which duplicates every row in \"Events\" (aircraft_count - 1 times).  Thus, if there's 3 planes, we'll get 2 new rows of the event.\n",
    "6. Re-create the \"Aircraft\" variable with a groupby() and cum_count() function, so that every row per ev_id is added to until there are no more observations left (will be clearer in the code).\n",
    "7. Now that we have the dataset formatted to resemble the individual-aircraft-level data from other tables, we can create the \"event_key\" - our master joining variable - in the events data.\n",
    "8. Join all datasets on the Events data by \"event_key\", \"Aircraft_Key\", and \"ev_id\" to ensure we are joining the right aircraft/event combos onto the event data."
   ]
  },
  {
   "cell_type": "code",
   "execution_count": 91,
   "id": "099e17db",
   "metadata": {},
   "outputs": [],
   "source": [
    "tables = pd.merge(engines,aircraft,on=['event_key','ev_id','Aircraft_Key'],how='left')\n",
    "\n",
    "aircraft_counts = pd.DataFrame(tables.groupby('ev_id')['Aircraft_Key'].count()).reset_index() # Counts how many unique values of \"Aircraft_Key\" per event\n",
    "aircraft_counts.rename(columns={'Aircraft_Key':'aircraft_count'},inplace=True)"
   ]
  },
  {
   "cell_type": "code",
   "execution_count": null,
   "id": "5d20832e",
   "metadata": {},
   "outputs": [],
   "source": [
    "df = pd.merge(data,aircraft_counts,on='ev_id',how='left') # "
   ]
  },
  {
   "cell_type": "markdown",
   "id": "f74902a0",
   "metadata": {},
   "source": [
    "### NOTE: Work in progress. "
   ]
  },
  {
   "cell_type": "code",
   "execution_count": null,
   "id": "d0cf5aca",
   "metadata": {},
   "outputs": [],
   "source": []
  }
 ],
 "metadata": {
  "kernelspec": {
   "display_name": "erdos_summer_2025",
   "language": "python",
   "name": "python3"
  },
  "language_info": {
   "codemirror_mode": {
    "name": "ipython",
    "version": 3
   },
   "file_extension": ".py",
   "mimetype": "text/x-python",
   "name": "python",
   "nbconvert_exporter": "python",
   "pygments_lexer": "ipython3",
   "version": "3.12.10"
  }
 },
 "nbformat": 4,
 "nbformat_minor": 5
}
