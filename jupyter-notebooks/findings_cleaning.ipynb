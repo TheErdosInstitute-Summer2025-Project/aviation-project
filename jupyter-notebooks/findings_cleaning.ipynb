{
 "cells": [
  {
   "attachments": {},
   "cell_type": "markdown",
   "id": "77210aa9",
   "metadata": {},
   "source": [
    "# Read & Prepare 'Findings' Dataset for Joining"
   ]
  },
  {
   "cell_type": "code",
   "execution_count": 1,
   "id": "6705a388",
   "metadata": {},
   "outputs": [],
   "source": [
    "import pandas as pd"
   ]
  },
  {
   "cell_type": "code",
   "execution_count": 2,
   "id": "d7f3fff0",
   "metadata": {},
   "outputs": [
    {
     "name": "stderr",
     "output_type": "stream",
     "text": [
      "/var/folders/gt/llhq12_57w5fdzbm5g__rpj00000gn/T/ipykernel_32568/4234333723.py:1: DtypeWarning: Columns (0,10) have mixed types. Specify dtype option on import or set low_memory=False.\n",
      "  data = pd.read_csv('../data/ntsb/ntsb_findings.csv',usecols=['ev_id',\n"
     ]
    }
   ],
   "source": [
    "data = pd.read_csv('../data/ntsb/ntsb_findings.csv',usecols=['ev_id',\n",
    "                                                             'Aircraft_Key',\n",
    "                                                             'finding_no',\n",
    "                                                             'finding_description',\n",
    "                                                             'Cause_Factor'])\n",
    "data['accident_id'] = data['ev_id'].astype(str) + '_' + data['Aircraft_Key'].astype(str)\n",
    "\n",
    "\n"
   ]
  },
  {
   "cell_type": "code",
   "execution_count": 6,
   "id": "5fe39ca1",
   "metadata": {},
   "outputs": [],
   "source": [
    "data = data[data['Cause_Factor']!='NaN']"
   ]
  },
  {
   "cell_type": "code",
   "execution_count": 7,
   "id": "fece18d4",
   "metadata": {},
   "outputs": [
    {
     "data": {
      "text/html": [
       "<div>\n",
       "<style scoped>\n",
       "    .dataframe tbody tr th:only-of-type {\n",
       "        vertical-align: middle;\n",
       "    }\n",
       "\n",
       "    .dataframe tbody tr th {\n",
       "        vertical-align: top;\n",
       "    }\n",
       "\n",
       "    .dataframe thead th {\n",
       "        text-align: right;\n",
       "    }\n",
       "</style>\n",
       "<table border=\"1\" class=\"dataframe\">\n",
       "  <thead>\n",
       "    <tr style=\"text-align: right;\">\n",
       "      <th></th>\n",
       "      <th>ev_id</th>\n",
       "      <th>Aircraft_Key</th>\n",
       "      <th>finding_no</th>\n",
       "      <th>finding_description</th>\n",
       "      <th>Cause_Factor</th>\n",
       "      <th>accident_id</th>\n",
       "    </tr>\n",
       "  </thead>\n",
       "  <tbody>\n",
       "    <tr>\n",
       "      <th>0</th>\n",
       "      <td>20080107X00026</td>\n",
       "      <td>1</td>\n",
       "      <td>1</td>\n",
       "      <td>Personnel issues-Action/decision-Info processi...</td>\n",
       "      <td>C</td>\n",
       "      <td>20080107X00026_1</td>\n",
       "    </tr>\n",
       "    <tr>\n",
       "      <th>1</th>\n",
       "      <td>20080107X00026</td>\n",
       "      <td>2</td>\n",
       "      <td>1</td>\n",
       "      <td>Personnel issues-Action/decision-Info processi...</td>\n",
       "      <td>C</td>\n",
       "      <td>20080107X00026_2</td>\n",
       "    </tr>\n",
       "    <tr>\n",
       "      <th>2</th>\n",
       "      <td>20080109X00036</td>\n",
       "      <td>1</td>\n",
       "      <td>1</td>\n",
       "      <td>Environmental issues-Conditions/weather/phenom...</td>\n",
       "      <td>F</td>\n",
       "      <td>20080109X00036_1</td>\n",
       "    </tr>\n",
       "    <tr>\n",
       "      <th>3</th>\n",
       "      <td>20080109X00036</td>\n",
       "      <td>1</td>\n",
       "      <td>2</td>\n",
       "      <td>Aircraft-Aircraft oper/perf/capability-Perform...</td>\n",
       "      <td>C</td>\n",
       "      <td>20080109X00036_1</td>\n",
       "    </tr>\n",
       "    <tr>\n",
       "      <th>4</th>\n",
       "      <td>20080107X00027</td>\n",
       "      <td>1</td>\n",
       "      <td>1</td>\n",
       "      <td>Environmental issues-Conditions/weather/phenom...</td>\n",
       "      <td>F</td>\n",
       "      <td>20080107X00027_1</td>\n",
       "    </tr>\n",
       "    <tr>\n",
       "      <th>...</th>\n",
       "      <td>...</td>\n",
       "      <td>...</td>\n",
       "      <td>...</td>\n",
       "      <td>...</td>\n",
       "      <td>...</td>\n",
       "      <td>...</td>\n",
       "    </tr>\n",
       "    <tr>\n",
       "      <th>67998</th>\n",
       "      <td>20250212199686</td>\n",
       "      <td>1</td>\n",
       "      <td>4</td>\n",
       "      <td>Personnel issues-Action/decision-Action-Forgot...</td>\n",
       "      <td>NaN</td>\n",
       "      <td>20250212199686_1</td>\n",
       "    </tr>\n",
       "    <tr>\n",
       "      <th>67999</th>\n",
       "      <td>20250212199691</td>\n",
       "      <td>1</td>\n",
       "      <td>1</td>\n",
       "      <td>Personnel issues-Psychological-Attention/monit...</td>\n",
       "      <td>NaN</td>\n",
       "      <td>20250212199691_1</td>\n",
       "    </tr>\n",
       "    <tr>\n",
       "      <th>68000</th>\n",
       "      <td>20250212199691</td>\n",
       "      <td>1</td>\n",
       "      <td>2</td>\n",
       "      <td>Environmental issues-Physical environment-Obje...</td>\n",
       "      <td>NaN</td>\n",
       "      <td>20250212199691_1</td>\n",
       "    </tr>\n",
       "    <tr>\n",
       "      <th>68001</th>\n",
       "      <td>20250218199714</td>\n",
       "      <td>1</td>\n",
       "      <td>1</td>\n",
       "      <td>Personnel issues-Action/decision-Action-Forgot...</td>\n",
       "      <td>NaN</td>\n",
       "      <td>20250218199714_1</td>\n",
       "    </tr>\n",
       "    <tr>\n",
       "      <th>68002</th>\n",
       "      <td>20250218199714</td>\n",
       "      <td>1</td>\n",
       "      <td>2</td>\n",
       "      <td>Aircraft-Aircraft power plant-Engine controls-...</td>\n",
       "      <td>NaN</td>\n",
       "      <td>20250218199714_1</td>\n",
       "    </tr>\n",
       "  </tbody>\n",
       "</table>\n",
       "<p>68003 rows × 6 columns</p>\n",
       "</div>"
      ],
      "text/plain": [
       "                ev_id  Aircraft_Key  finding_no  \\\n",
       "0      20080107X00026             1           1   \n",
       "1      20080107X00026             2           1   \n",
       "2      20080109X00036             1           1   \n",
       "3      20080109X00036             1           2   \n",
       "4      20080107X00027             1           1   \n",
       "...               ...           ...         ...   \n",
       "67998  20250212199686             1           4   \n",
       "67999  20250212199691             1           1   \n",
       "68000  20250212199691             1           2   \n",
       "68001  20250218199714             1           1   \n",
       "68002  20250218199714             1           2   \n",
       "\n",
       "                                     finding_description Cause_Factor  \\\n",
       "0      Personnel issues-Action/decision-Info processi...            C   \n",
       "1      Personnel issues-Action/decision-Info processi...            C   \n",
       "2      Environmental issues-Conditions/weather/phenom...            F   \n",
       "3      Aircraft-Aircraft oper/perf/capability-Perform...            C   \n",
       "4      Environmental issues-Conditions/weather/phenom...            F   \n",
       "...                                                  ...          ...   \n",
       "67998  Personnel issues-Action/decision-Action-Forgot...          NaN   \n",
       "67999  Personnel issues-Psychological-Attention/monit...          NaN   \n",
       "68000  Environmental issues-Physical environment-Obje...          NaN   \n",
       "68001  Personnel issues-Action/decision-Action-Forgot...          NaN   \n",
       "68002  Aircraft-Aircraft power plant-Engine controls-...          NaN   \n",
       "\n",
       "            accident_id  \n",
       "0      20080107X00026_1  \n",
       "1      20080107X00026_2  \n",
       "2      20080109X00036_1  \n",
       "3      20080109X00036_1  \n",
       "4      20080107X00027_1  \n",
       "...                 ...  \n",
       "67998  20250212199686_1  \n",
       "67999  20250212199691_1  \n",
       "68000  20250212199691_1  \n",
       "68001  20250218199714_1  \n",
       "68002  20250218199714_1  \n",
       "\n",
       "[68003 rows x 6 columns]"
      ]
     },
     "execution_count": 7,
     "metadata": {},
     "output_type": "execute_result"
    }
   ],
   "source": [
    "data"
   ]
  },
  {
   "cell_type": "code",
   "execution_count": 28,
   "id": "262ba536",
   "metadata": {},
   "outputs": [],
   "source": [
    "engine_dummies = pd.get_dummies(data['eng_type'],dtype=int,prefix='engine')"
   ]
  },
  {
   "cell_type": "code",
   "execution_count": 37,
   "id": "694cee98",
   "metadata": {},
   "outputs": [
    {
     "data": {
      "text/plain": [
       "engine_ELEC       26\n",
       "engine_GTFN       14\n",
       "engine_HR          1\n",
       "engine_LR          2\n",
       "engine_NONE       33\n",
       "engine_REC     19283\n",
       "engine_TF       1035\n",
       "engine_TJ        154\n",
       "engine_TP       1324\n",
       "engine_TS       1202\n",
       "engine_UNK        31\n",
       "dtype: int64"
      ]
     },
     "execution_count": 37,
     "metadata": {},
     "output_type": "execute_result"
    }
   ],
   "source": [
    "engine_dummies.sum()"
   ]
  },
  {
   "cell_type": "markdown",
   "id": "c07f431c",
   "metadata": {},
   "source": [
    "#### Note:\n",
    "Looking above, it's worth considering how useful these will be given that we have only ~23k total observations over 25 years. Also, some only have a single instance, so we might be well-suited to pare down to those above a certain threshold - say, 1,000?"
   ]
  },
  {
   "cell_type": "code",
   "execution_count": 32,
   "id": "c6b4abfb",
   "metadata": {},
   "outputs": [],
   "source": [
    "export = pd.concat([data['accident_id'],engine_dummies],axis=1)"
   ]
  },
  {
   "cell_type": "code",
   "execution_count": 38,
   "id": "1378a4b3",
   "metadata": {},
   "outputs": [],
   "source": [
    "export.to_csv('../data/ntsb/cleaned/engine_data.csv')"
   ]
  }
 ],
 "metadata": {
  "kernelspec": {
   "display_name": "erdos_summer_2025",
   "language": "python",
   "name": "python3"
  },
  "language_info": {
   "codemirror_mode": {
    "name": "ipython",
    "version": 3
   },
   "file_extension": ".py",
   "mimetype": "text/x-python",
   "name": "python",
   "nbconvert_exporter": "python",
   "pygments_lexer": "ipython3",
   "version": "3.12.10"
  }
 },
 "nbformat": 4,
 "nbformat_minor": 5
}
