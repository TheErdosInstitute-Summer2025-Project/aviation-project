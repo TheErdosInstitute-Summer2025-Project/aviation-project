{
 "cells": [
  {
   "attachments": {},
   "cell_type": "markdown",
   "metadata": {},
   "source": [
    "# Imputing NTSB Master dataset\n",
    "\n",
    "This notebook imputes NTSB master dataet, which originates from the Jupyter Notebook `ntsb_feature_selection.ipynb`.\n",
    "\n",
    "***"
   ]
  },
  {
   "attachments": {},
   "cell_type": "markdown",
   "metadata": {},
   "source": [
    "#### Notes \n",
    "- Since we don't want to drop columns based on their frequency in the test set, this is probably a temporary measure to simplify our exploration, but we can take it out once we have a model\n",
    "- The following should be run __before__ drop infrequent values, which fills in missing entries\n",
    "\n",
    "Eventually when we impute values, I think we should do so __before__ dropping any columns / infrequent values of categorical variables because we may use that information in imputation even if we don't use it in modeling. E.g. if we only two occurences of a particular aircraft model, that could still be useful for imputing missing info about the aircraft.\n",
    "\n",
    "#### `total_person_count`\n",
    "We have some missing data for `total_person_count`, which can mostly be calculated, but:\n",
    "1. there are a few (~10) cases where we're missing data for both aircraft in a multi-aircraft event. \n",
    "2. if `inj_tot_t` and aircraft-level counts are missing and the other event-level injury counts are 0, this does not necessarily indicate that there were only unmanned aircraft involved. It seems that the other event-level injury counts default to 0 when they are unknown, and only `inj_tot_t` is left blank in the dataset.\n",
    "\n",
    "I found the following reasons why the injury counts might be unknown:\n",
    "- Crash occurred outside of the USA --> no NTSB investigation\n",
    "- Incident and not accident --> superficial investigation\n",
    "- Aircraft damage was discovered in an inspection --> investigation could not determine whether injuries occurred\n",
    "\n",
    "#### Filtering data\n",
    "- I think we should filter out (a) events outside the USA and (b) non-accidents because of a high likelihood of sparse data. This leaves us with ~83% of the data. \n",
    "- If we do this, most of the variables now have well over 80% of the values present\n",
    "- My gut is to filter before the train-test split, but I'm not certain that's right (or that it matters)\n",
    "\n",
    "#### Other notes\n",
    "- Oddly, `gust_kts` is 100% present but `wind_vel_kts` is ~20% missing. When `wind_vel_kts` is missing, `gust_kts` is 0 more than 99% of the time, which probably means that 0 is entered by default when it's unknown\n",
    "\n",
    "### Imputing values\n",
    "\n",
    "Categorical\n",
    "- Target variables (does it ever make sense to impute a target variable, or should we just omit from the dataset / performance metrics?)\n",
    "  - `damage`: guess based on injury severity \n",
    "  - `ev_highest_injury`: calculate from injury counts\n",
    "- All others: 'other/unknown'\n",
    "\n",
    "Numerical\n",
    "- Calculate from other data: `total_person_count`, `Minor_count`, `None_count`, `Serious_count`, `Fatal_count`, `injured_person_count`, `ev_highest_injury`, `inj_tot_t`\n",
    "- `latitude`, `longitude`: randomly sample? (not a huge issue -- it's only 1 row)\n",
    "- `Environmental issues`, `Organizational issues`, `Personnel issues`: impute 0\n",
    "- `num_eng`: find max number of passengers on a 1-engine aircraft, impute 1 for aircraft with at most this many passengers, 2 for aircraft with more passengers"
   ]
  },
  {
   "cell_type": "code",
   "execution_count": 26,
   "metadata": {},
   "outputs": [],
   "source": [
    "import pandas as pd\n",
    "import missingno as mno\n",
    "import matplotlib.pyplot as plt\n",
    "import numpy as np"
   ]
  },
  {
   "cell_type": "code",
   "execution_count": 27,
   "metadata": {},
   "outputs": [],
   "source": [
    "data = pd.read_csv(\"../data/ntsb/cleaned/master_train.csv\")"
   ]
  },
  {
   "cell_type": "code",
   "execution_count": 28,
   "metadata": {},
   "outputs": [],
   "source": [
    "data = data.loc[(data['ev_country']=='USA') & (data['ev_type']=='ACC')] # Limit to US accidents \n",
    "data.drop(columns=['ev_country', 'ev_type'], inplace=True)\n",
    "\n",
    "data = data.loc[~data['inj_tot_t'].isna()]\n",
    "\n",
    "## clean more : impute ground injury values\n",
    "data[['inj_f_grnd', 'inj_m_grnd', 'inj_s_grnd']]= data[['inj_f_grnd', 'inj_m_grnd', 'inj_s_grnd']].fillna(0) \n",
    "\n",
    "data['ground_injury_total'] = data[['inj_f_grnd', 'inj_m_grnd', 'inj_s_grnd']].sum(axis=1)"
   ]
  },
  {
   "cell_type": "code",
   "execution_count": 29,
   "metadata": {},
   "outputs": [
    {
     "name": "stdout",
     "output_type": "stream",
     "text": [
      "on_ground_collision 0.974\n",
      "wind_vel_kts 0.211\n",
      "owner_acft 0.423\n",
      "oprtng_cert 1.0\n",
      "oper_cert 1.0\n",
      "evacuation 1.0\n",
      "rwy_len 0.477\n",
      "rwy_width 0.479\n",
      "acft_year 0.515\n",
      "fuel_on_board 0.708\n"
     ]
    }
   ],
   "source": [
    "for col in data.columns:\n",
    "    pna = data[col].isna().sum() / len(data)\n",
    "    if pna > 0.2 :\n",
    "        print(col, round(pna,3))\n"
   ]
  },
  {
   "cell_type": "code",
   "execution_count": 30,
   "metadata": {},
   "outputs": [],
   "source": [
    "def drop_sparse_columns(data, threshold, safe_cols=None):\n",
    "    '''\n",
    "    Drops columns from data that do not contain at least a given proportion of non-empty entries\n",
    "    \n",
    "    Inputs\n",
    "        data: pandas DataFrame\n",
    "        threshold: float in [0,1], all columns with less than this proportion of non-empty entries are dropped\n",
    "        safe_cols: list of names of columns that should not be dropped even if they are below the sparsity threshold\n",
    "    Outputs\n",
    "        data: same DataFrame with appropriate columns dropped\n",
    "    '''\n",
    "    # list of columns to drop if they are too sparse\n",
    "    unsafe_cols = [col for col in data.columns if col not in safe_cols]\n",
    "\n",
    "    for col in unsafe_cols:\n",
    "        # calculate proportion of na entries in col\n",
    "        prop_na = data[col].isna().sum() / len(data)\n",
    "        \n",
    "        # drop col if the column is too sparse\n",
    "        if prop_na > 1 - threshold:\n",
    "            data.drop(columns=col, inplace=True)\n",
    "    \n",
    "    return data"
   ]
  },
  {
   "cell_type": "code",
   "execution_count": 31,
   "metadata": {},
   "outputs": [],
   "source": [
    "data = drop_sparse_columns(data, 0.8, safe_cols=['damage', 'acft_category', 'acft_make', 'acft_model'])"
   ]
  },
  {
   "cell_type": "code",
   "execution_count": 32,
   "metadata": {},
   "outputs": [],
   "source": [
    "# Already processed\n",
    "data.drop(columns=['Aircraft', 'Aircraft_Key', 'ev_id', 'finding_description'], inplace=True)\n",
    "\n",
    "# Possible data leakage\n",
    "data.drop(columns=['acft_fire', 'acft_expl'], inplace=True)\n",
    "\n",
    "# Probably not relevant (ev_time seemingly boils down to light_cond)\n",
    "data.drop(columns=['wx_dew_pt', 'type_fly', 'ev_time'], inplace=True)\n",
    "\n",
    "# (Almost) all rows have same value\n",
    "data.drop(columns=['certs_held', 'unmanned'], inplace=True)"
   ]
  },
  {
   "cell_type": "code",
   "execution_count": 33,
   "metadata": {},
   "outputs": [],
   "source": [
    "## Imputing `damage` value\n",
    "## Since approximately 3.9% of the entries in the damage column are missing, we choose to drop these rows.\n",
    "data = data.loc[~data['damage'].isna()]"
   ]
  },
  {
   "cell_type": "code",
   "execution_count": 34,
   "metadata": {},
   "outputs": [],
   "source": [
    "## Imputing other categorical values\n",
    "\n",
    "for col in data.columns:\n",
    "    mask = data[col].isna()\n",
    "    if any(mask) and data[col].dtype == 'object':\n",
    "        data.loc[mask,col] = data[mask][col].replace(np.nan,'other/unknown')"
   ]
  },
  {
   "cell_type": "code",
   "execution_count": 35,
   "metadata": {},
   "outputs": [],
   "source": [
    "## Imputing findings\n",
    "\n",
    "data[['Environmental issues', 'Organizational issues', 'Personnel issues']] = data[['Environmental issues', 'Organizational issues', 'Personnel issues']].fillna(0)"
   ]
  },
  {
   "cell_type": "code",
   "execution_count": 36,
   "metadata": {},
   "outputs": [],
   "source": [
    "## Imputing total person count\n",
    "## There are only four event_key ['20080505X00589_2', '20130118X53100_2' , '20160218X94149_2', '20170913X72254_2']\n",
    "## Whatever the exact circumstances (e.g., parked at the airport or taxiing), there were no occupants in these second aircraft, as all reported injuries (inj_tot_t) are attributed to the first aircraft in each event.\n",
    "count = ['event_key', 'Fatal_count', 'Minor_count', 'None_count', 'Serious_count', 'total_person_count', 'injured_person_count','ground_injury_total', 'inj_tot_t']\n",
    "data.loc[data['total_person_count'].isna(),count] = data[data['total_person_count'].isna()][count].fillna(0)"
   ]
  },
  {
   "cell_type": "code",
   "execution_count": 37,
   "metadata": {},
   "outputs": [
    {
     "name": "stdout",
     "output_type": "stream",
     "text": [
      "Maximum number of total seats in single engine aircraft 3300.0\n",
      "Below table shows accidents whose total seats and the number of engines are blank.\n",
      "              event_key    acft_model\n",
      "8320   20141217X43728_1           737\n",
      "8453   20150305X42958_1         MD 88\n",
      "9234   20151029X44249_1           767\n",
      "9479   20160225X92701_1        EMB145\n",
      "11463  20171219X90251_1  ERJ170-200LR\n",
      "12086  20180725X32722_1          MD88\n"
     ]
    }
   ],
   "source": [
    "## For aircrafts having single engine, data shows the number of seats is less than 20.\n",
    "\n",
    "## For single-engine aircraft, check the maximum number of seats.\n",
    "print('Maximum number of total seats in single engine aircraft', np.max(data[data['num_eng']==1]['total_seats'].fillna(0).values))\n",
    "## If this print shows '3300', that must be typo.\n",
    "\n",
    "\n",
    "## Imputing value 1 into 'num_eng' if the total seats is less than 20.\n",
    "data.loc[(data['num_eng'].isna())& (data['total_seats']<=20), 'num_eng'] = data[(data['num_eng'].isna())& (data['total_seats']<=20)]['num_eng'].fillna(1)\n",
    "\n",
    "## There are only four cases both total seats and the number of engines are blank.\n",
    "## All have two engines typically.\n",
    "print('Below table shows accidents whose total seats and the number of engines are blank.')\n",
    "print(data[(data['num_eng'].isna())& (data['total_seats'].isna()) & (data['total_person_count']>20)][['event_key','acft_model']])\n",
    "\n",
    "## We checked each acft_models in the table, and all of them has typically two engines.\n",
    "data.loc[(data['num_eng'].isna())& (data['total_seats'].isna()), 'num_eng'] = data[(data['num_eng'].isna())& (data['total_seats'].isna())]['num_eng'].fillna(2)\n",
    "\n",
    "## And other cases also have two engines typically.\n",
    "data.loc[data['num_eng'].isna(), 'num_eng'] = data[data['num_eng'].isna()]['num_eng'].fillna(2)"
   ]
  },
  {
   "cell_type": "code",
   "execution_count": 38,
   "metadata": {},
   "outputs": [
    {
     "name": "stdout",
     "output_type": "stream",
     "text": [
      "total_seats\n"
     ]
    }
   ],
   "source": [
    "##Check whether additional imputations are needed except for the 'total_seats' column.\n",
    "\n",
    "for col in data.columns:\n",
    "    mask = data[col].isna()\n",
    "    if any(mask):\n",
    "        print(col)"
   ]
  },
  {
   "cell_type": "code",
   "execution_count": 39,
   "metadata": {},
   "outputs": [],
   "source": [
    "data.to_csv('../data/ntsb/cleaned/master_train_imputed.csv',index=False)"
   ]
  }
 ],
 "metadata": {
  "kernelspec": {
   "display_name": "erdos_summer_2025",
   "language": "python",
   "name": "python3"
  },
  "language_info": {
   "codemirror_mode": {
    "name": "ipython",
    "version": 3
   },
   "file_extension": ".py",
   "mimetype": "text/x-python",
   "name": "python",
   "nbconvert_exporter": "python",
   "pygments_lexer": "ipython3",
   "version": "3.12.10"
  },
  "orig_nbformat": 4
 },
 "nbformat": 4,
 "nbformat_minor": 2
}
