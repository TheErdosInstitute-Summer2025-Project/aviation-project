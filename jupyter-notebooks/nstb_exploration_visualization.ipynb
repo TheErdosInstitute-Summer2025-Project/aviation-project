{
 "cells": [
  {
   "cell_type": "markdown",
   "id": "693c15e4",
   "metadata": {},
   "source": [
    "# NTSB Exploration & Visualization\n",
    "***"
   ]
  },
  {
   "cell_type": "code",
   "execution_count": 1,
   "id": "7393ecf4",
   "metadata": {},
   "outputs": [
    {
     "name": "stderr",
     "output_type": "stream",
     "text": [
      "/var/folders/c8/jr_n0v1x3n52_hpzs9nlqykw0000gn/T/ipykernel_23089/2463442858.py:8: DtypeWarning: Columns (0,30,31,32,33,34,35,36,37,40,41,42,43,46,47,54) have mixed types. Specify dtype option on import or set low_memory=False.\n",
      "  df = pd.read_csv('../data/ntsb/cleaned/master.csv')\n",
      "/var/folders/c8/jr_n0v1x3n52_hpzs9nlqykw0000gn/T/ipykernel_23089/2463442858.py:14: SettingWithCopyWarning: \n",
      "A value is trying to be set on a copy of a slice from a DataFrame.\n",
      "Try using .loc[row_indexer,col_indexer] = value instead\n",
      "\n",
      "See the caveats in the documentation: https://pandas.pydata.org/pandas-docs/stable/user_guide/indexing.html#returning-a-view-versus-a-copy\n",
      "  data[['inj_f_grnd', 'inj_m_grnd', 'inj_s_grnd']]= data[['inj_f_grnd', 'inj_m_grnd', 'inj_s_grnd']].fillna(0)\n",
      "/var/folders/c8/jr_n0v1x3n52_hpzs9nlqykw0000gn/T/ipykernel_23089/2463442858.py:15: SettingWithCopyWarning: \n",
      "A value is trying to be set on a copy of a slice from a DataFrame.\n",
      "Try using .loc[row_indexer,col_indexer] = value instead\n",
      "\n",
      "See the caveats in the documentation: https://pandas.pydata.org/pandas-docs/stable/user_guide/indexing.html#returning-a-view-versus-a-copy\n",
      "  data['ground_injury_total'] = data[['inj_f_grnd', 'inj_m_grnd', 'inj_s_grnd']].sum(axis=1)\n"
     ]
    }
   ],
   "source": [
    "import pandas as pd\n",
    "import numpy as np\n",
    "from scipy.stats import chi2_contingency, spearmanr\n",
    "import seaborn as sns\n",
    "import matplotlib.pyplot as plt\n",
    "\n",
    "\n",
    "df = pd.read_csv('../data/ntsb/cleaned/master.csv')\n",
    "df = df.loc[(df['ev_country']=='USA') & (df['ev_type']=='ACC')] # Limit to US accidents \n",
    "df.drop(columns=['ev_country', 'ev_type'], inplace=True)\n",
    "\n",
    "data = df.loc[~df['inj_tot_t'].isna()]\n",
    "## clean more : impute ground injury values\n",
    "data[['inj_f_grnd', 'inj_m_grnd', 'inj_s_grnd']]= data[['inj_f_grnd', 'inj_m_grnd', 'inj_s_grnd']].fillna(0) \n",
    "data['ground_injury_total'] = data[['inj_f_grnd', 'inj_m_grnd', 'inj_s_grnd']].sum(axis=1)"
   ]
  },
  {
   "cell_type": "markdown",
   "id": "a89e435c",
   "metadata": {},
   "source": [
    "***\n",
    "# Checking Correlations (Categorical & Continuous)\n",
    "\n",
    "## Cramers' V for Categorical Variables\n",
    "\n",
    "This section checks the "
   ]
  },
  {
   "cell_type": "code",
   "execution_count": 9,
   "id": "b328cd44",
   "metadata": {},
   "outputs": [],
   "source": [
    "def cramers_v(x, y):\n",
    "    \"\"\"Calculates Cramer's V for categorical Variables.\n",
    "    x: first categorical variable\n",
    "    y: second categorical variable\n",
    "\n",
    "    Returns Cramer's V stat of correlation among categorical variables\n",
    "    \"\"\"\n",
    "    confusion_matrix = pd.crosstab(x,y)\n",
    "    chi2 = chi2_contingency(confusion_matrix)[0]\n",
    "    n = np.sum(confusion_matrix.values)\n",
    "    min_dim = min(confusion_matrix.shape) - 1\n",
    "    return np.sqrt(chi2 / (n * min_dim))"
   ]
  },
  {
   "cell_type": "code",
   "execution_count": 25,
   "id": "7e309d18",
   "metadata": {},
   "outputs": [
    {
     "name": "stderr",
     "output_type": "stream",
     "text": [
      "/var/folders/c8/jr_n0v1x3n52_hpzs9nlqykw0000gn/T/ipykernel_23089/2567436528.py:5: FutureWarning: The behavior of DataFrame concatenation with empty or all-NA entries is deprecated. In a future version, this will no longer exclude empty or all-NA columns when determining the result dtypes. To retain the old behavior, exclude the relevant entries before the concat operation.\n",
      "  cramer_df = pd.concat([cramer_df,update],ignore_index=True)\n",
      "/var/folders/c8/jr_n0v1x3n52_hpzs9nlqykw0000gn/T/ipykernel_23089/3536291339.py:12: RuntimeWarning: invalid value encountered in divide\n",
      "  return np.sqrt(chi2 / (n * min_dim))\n"
     ]
    }
   ],
   "source": [
    "cramer_df = pd.DataFrame(columns=['feature','corr'])\n",
    "for i in data.select_dtypes('object'):\n",
    "    update = pd.DataFrame({'feature':[i],\n",
    "                           'corr': cramers_v(data[i],data['damage'])})\n",
    "    cramer_df = pd.concat([cramer_df,update],ignore_index=True)"
   ]
  },
  {
   "cell_type": "code",
   "execution_count": 45,
   "id": "d3011e13",
   "metadata": {},
   "outputs": [],
   "source": [
    "cramer_df = cramer_df.sort_values(by='corr')"
   ]
  },
  {
   "cell_type": "code",
   "execution_count": 46,
   "id": "1a66116d",
   "metadata": {},
   "outputs": [
    {
     "data": {
      "text/html": [
       "<div>\n",
       "<style scoped>\n",
       "    .dataframe tbody tr th:only-of-type {\n",
       "        vertical-align: middle;\n",
       "    }\n",
       "\n",
       "    .dataframe tbody tr th {\n",
       "        vertical-align: top;\n",
       "    }\n",
       "\n",
       "    .dataframe thead th {\n",
       "        text-align: right;\n",
       "    }\n",
       "</style>\n",
       "<table border=\"1\" class=\"dataframe\">\n",
       "  <thead>\n",
       "    <tr style=\"text-align: right;\">\n",
       "      <th></th>\n",
       "      <th>feature</th>\n",
       "      <th>corr</th>\n",
       "    </tr>\n",
       "  </thead>\n",
       "  <tbody>\n",
       "    <tr>\n",
       "      <th>16</th>\n",
       "      <td>homebuilt</td>\n",
       "      <td>0.022172</td>\n",
       "    </tr>\n",
       "    <tr>\n",
       "      <th>22</th>\n",
       "      <td>second_pilot</td>\n",
       "      <td>0.037766</td>\n",
       "    </tr>\n",
       "    <tr>\n",
       "      <th>15</th>\n",
       "      <td>acft_category</td>\n",
       "      <td>0.064368</td>\n",
       "    </tr>\n",
       "    <tr>\n",
       "      <th>5</th>\n",
       "      <td>light_cond</td>\n",
       "      <td>0.072032</td>\n",
       "    </tr>\n",
       "    <tr>\n",
       "      <th>17</th>\n",
       "      <td>fixed_retractable</td>\n",
       "      <td>0.112101</td>\n",
       "    </tr>\n",
       "    <tr>\n",
       "      <th>8</th>\n",
       "      <td>eng_type</td>\n",
       "      <td>0.169087</td>\n",
       "    </tr>\n",
       "    <tr>\n",
       "      <th>12</th>\n",
       "      <td>acft_expl</td>\n",
       "      <td>0.192751</td>\n",
       "    </tr>\n",
       "    <tr>\n",
       "      <th>21</th>\n",
       "      <td>type_fly</td>\n",
       "      <td>0.227212</td>\n",
       "    </tr>\n",
       "    <tr>\n",
       "      <th>9</th>\n",
       "      <td>far_part</td>\n",
       "      <td>0.260223</td>\n",
       "    </tr>\n",
       "    <tr>\n",
       "      <th>6</th>\n",
       "      <td>ev_highest_injury</td>\n",
       "      <td>0.299698</td>\n",
       "    </tr>\n",
       "    <tr>\n",
       "      <th>11</th>\n",
       "      <td>acft_fire</td>\n",
       "      <td>0.305436</td>\n",
       "    </tr>\n",
       "    <tr>\n",
       "      <th>2</th>\n",
       "      <td>on_ground_collision</td>\n",
       "      <td>0.350210</td>\n",
       "    </tr>\n",
       "    <tr>\n",
       "      <th>13</th>\n",
       "      <td>acft_make</td>\n",
       "      <td>0.563157</td>\n",
       "    </tr>\n",
       "    <tr>\n",
       "      <th>18</th>\n",
       "      <td>date_last_insp</td>\n",
       "      <td>0.564527</td>\n",
       "    </tr>\n",
       "    <tr>\n",
       "      <th>14</th>\n",
       "      <td>acft_model</td>\n",
       "      <td>0.753704</td>\n",
       "    </tr>\n",
       "    <tr>\n",
       "      <th>3</th>\n",
       "      <td>latitude</td>\n",
       "      <td>0.784871</td>\n",
       "    </tr>\n",
       "    <tr>\n",
       "      <th>4</th>\n",
       "      <td>longitude</td>\n",
       "      <td>0.806388</td>\n",
       "    </tr>\n",
       "    <tr>\n",
       "      <th>23</th>\n",
       "      <td>finding_description</td>\n",
       "      <td>0.849898</td>\n",
       "    </tr>\n",
       "    <tr>\n",
       "      <th>1</th>\n",
       "      <td>ntsb_no</td>\n",
       "      <td>0.852293</td>\n",
       "    </tr>\n",
       "    <tr>\n",
       "      <th>0</th>\n",
       "      <td>ev_id</td>\n",
       "      <td>0.852293</td>\n",
       "    </tr>\n",
       "    <tr>\n",
       "      <th>19</th>\n",
       "      <td>owner_acft</td>\n",
       "      <td>0.945254</td>\n",
       "    </tr>\n",
       "    <tr>\n",
       "      <th>7</th>\n",
       "      <td>event_key</td>\n",
       "      <td>1.000000</td>\n",
       "    </tr>\n",
       "    <tr>\n",
       "      <th>10</th>\n",
       "      <td>damage</td>\n",
       "      <td>1.000000</td>\n",
       "    </tr>\n",
       "    <tr>\n",
       "      <th>20</th>\n",
       "      <td>certs_held</td>\n",
       "      <td>NaN</td>\n",
       "    </tr>\n",
       "  </tbody>\n",
       "</table>\n",
       "</div>"
      ],
      "text/plain": [
       "                feature      corr\n",
       "16            homebuilt  0.022172\n",
       "22         second_pilot  0.037766\n",
       "15        acft_category  0.064368\n",
       "5            light_cond  0.072032\n",
       "17    fixed_retractable  0.112101\n",
       "8              eng_type  0.169087\n",
       "12            acft_expl  0.192751\n",
       "21             type_fly  0.227212\n",
       "9              far_part  0.260223\n",
       "6     ev_highest_injury  0.299698\n",
       "11            acft_fire  0.305436\n",
       "2   on_ground_collision  0.350210\n",
       "13            acft_make  0.563157\n",
       "18       date_last_insp  0.564527\n",
       "14           acft_model  0.753704\n",
       "3              latitude  0.784871\n",
       "4             longitude  0.806388\n",
       "23  finding_description  0.849898\n",
       "1               ntsb_no  0.852293\n",
       "0                 ev_id  0.852293\n",
       "19           owner_acft  0.945254\n",
       "7             event_key  1.000000\n",
       "10               damage  1.000000\n",
       "20           certs_held       NaN"
      ]
     },
     "execution_count": 46,
     "metadata": {},
     "output_type": "execute_result"
    }
   ],
   "source": [
    "cramer_df"
   ]
  },
  {
   "cell_type": "code",
   "execution_count": 53,
   "id": "8954ec32",
   "metadata": {},
   "outputs": [
    {
     "data": {
      "text/plain": [
       "([0,\n",
       "  1,\n",
       "  2,\n",
       "  3,\n",
       "  4,\n",
       "  5,\n",
       "  6,\n",
       "  7,\n",
       "  8,\n",
       "  9,\n",
       "  10,\n",
       "  11,\n",
       "  12,\n",
       "  13,\n",
       "  14,\n",
       "  15,\n",
       "  16,\n",
       "  17,\n",
       "  18,\n",
       "  19,\n",
       "  20,\n",
       "  21,\n",
       "  22,\n",
       "  23],\n",
       " [Text(0, 0, 'homebuilt'),\n",
       "  Text(1, 0, 'second_pilot'),\n",
       "  Text(2, 0, 'acft_category'),\n",
       "  Text(3, 0, 'light_cond'),\n",
       "  Text(4, 0, 'fixed_retractable'),\n",
       "  Text(5, 0, 'eng_type'),\n",
       "  Text(6, 0, 'acft_expl'),\n",
       "  Text(7, 0, 'type_fly'),\n",
       "  Text(8, 0, 'far_part'),\n",
       "  Text(9, 0, 'ev_highest_injury'),\n",
       "  Text(10, 0, 'acft_fire'),\n",
       "  Text(11, 0, 'on_ground_collision'),\n",
       "  Text(12, 0, 'acft_make'),\n",
       "  Text(13, 0, 'date_last_insp'),\n",
       "  Text(14, 0, 'acft_model'),\n",
       "  Text(15, 0, 'latitude'),\n",
       "  Text(16, 0, 'longitude'),\n",
       "  Text(17, 0, 'finding_description'),\n",
       "  Text(18, 0, 'ntsb_no'),\n",
       "  Text(19, 0, 'ev_id'),\n",
       "  Text(20, 0, 'owner_acft'),\n",
       "  Text(21, 0, 'event_key'),\n",
       "  Text(22, 0, 'damage'),\n",
       "  Text(23, 0, 'certs_held')])"
      ]
     },
     "execution_count": 53,
     "metadata": {},
     "output_type": "execute_result"
    },
    {
     "data": {
      "image/png": "[encoded data removed]",
      "text/plain": [
       "<Figure size 1000x1000 with 1 Axes>"
      ]
     },
     "metadata": {},
     "output_type": "display_data"
    }
   ],
   "source": [
    "plt.figure(figsize=(10,10))\n",
    "sns.barplot(data=cramer_df,\n",
    "            x='feature',\n",
    "            y='corr')\n",
    "plt.xticks(rotation=45)"
   ]
  },
  {
   "cell_type": "markdown",
   "id": "588b0ae7",
   "metadata": {},
   "source": [
    "## Spearman's Rank Correlation"
   ]
  },
  {
   "cell_type": "code",
   "execution_count": 41,
   "id": "d4f25364",
   "metadata": {},
   "outputs": [
    {
     "name": "stderr",
     "output_type": "stream",
     "text": [
      "/var/folders/c8/jr_n0v1x3n52_hpzs9nlqykw0000gn/T/ipykernel_23089/2492736908.py:5: FutureWarning: The behavior of DataFrame concatenation with empty or all-NA entries is deprecated. In a future version, this will no longer exclude empty or all-NA columns when determining the result dtypes. To retain the old behavior, exclude the relevant entries before the concat operation.\n",
      "  spear_df = pd.concat([spear_df,update],ignore_index=True)\n"
     ]
    }
   ],
   "source": [
    "spear_df = pd.DataFrame(columns=['feature','corr'])\n",
    "for i in data.select_dtypes('int'):\n",
    "    update = pd.DataFrame({'feature':[i],\n",
    "                           'corr': spearmanr(data[i],data['ev_highest_injury'])[1]})\n",
    "    spear_df = pd.concat([spear_df,update],ignore_index=True)"
   ]
  },
  {
   "cell_type": "code",
   "execution_count": 42,
   "id": "69482c23",
   "metadata": {},
   "outputs": [
    {
     "data": {
      "text/html": [
       "<div>\n",
       "<style scoped>\n",
       "    .dataframe tbody tr th:only-of-type {\n",
       "        vertical-align: middle;\n",
       "    }\n",
       "\n",
       "    .dataframe tbody tr th {\n",
       "        vertical-align: top;\n",
       "    }\n",
       "\n",
       "    .dataframe thead th {\n",
       "        text-align: right;\n",
       "    }\n",
       "</style>\n",
       "<table border=\"1\" class=\"dataframe\">\n",
       "  <thead>\n",
       "    <tr style=\"text-align: right;\">\n",
       "      <th></th>\n",
       "      <th>feature</th>\n",
       "      <th>corr</th>\n",
       "    </tr>\n",
       "  </thead>\n",
       "  <tbody>\n",
       "    <tr>\n",
       "      <th>0</th>\n",
       "      <td>ev_year</td>\n",
       "      <td>0.237569</td>\n",
       "    </tr>\n",
       "    <tr>\n",
       "      <th>1</th>\n",
       "      <td>ev_month</td>\n",
       "      <td>0.006310</td>\n",
       "    </tr>\n",
       "    <tr>\n",
       "      <th>2</th>\n",
       "      <td>inj_tot_f</td>\n",
       "      <td>0.000000</td>\n",
       "    </tr>\n",
       "    <tr>\n",
       "      <th>3</th>\n",
       "      <td>inj_tot_m</td>\n",
       "      <td>0.000000</td>\n",
       "    </tr>\n",
       "    <tr>\n",
       "      <th>4</th>\n",
       "      <td>inj_tot_n</td>\n",
       "      <td>0.000000</td>\n",
       "    </tr>\n",
       "    <tr>\n",
       "      <th>5</th>\n",
       "      <td>inj_tot_s</td>\n",
       "      <td>0.000000</td>\n",
       "    </tr>\n",
       "    <tr>\n",
       "      <th>6</th>\n",
       "      <td>Aircraft_ID</td>\n",
       "      <td>0.008864</td>\n",
       "    </tr>\n",
       "  </tbody>\n",
       "</table>\n",
       "</div>"
      ],
      "text/plain": [
       "       feature      corr\n",
       "0      ev_year  0.237569\n",
       "1     ev_month  0.006310\n",
       "2    inj_tot_f  0.000000\n",
       "3    inj_tot_m  0.000000\n",
       "4    inj_tot_n  0.000000\n",
       "5    inj_tot_s  0.000000\n",
       "6  Aircraft_ID  0.008864"
      ]
     },
     "execution_count": 42,
     "metadata": {},
     "output_type": "execute_result"
    }
   ],
   "source": [
    "spear_df"
   ]
  },
  {
   "cell_type": "markdown",
   "id": "555c4078",
   "metadata": {},
   "source": [
    "*** \n",
    "# Visualization"
   ]
  },
  {
   "cell_type": "code",
   "execution_count": 34,
   "id": "d0bfdef5",
   "metadata": {},
   "outputs": [
    {
     "data": {
      "text/html": [
       "<div>\n",
       "<style scoped>\n",
       "    .dataframe tbody tr th:only-of-type {\n",
       "        vertical-align: middle;\n",
       "    }\n",
       "\n",
       "    .dataframe tbody tr th {\n",
       "        vertical-align: top;\n",
       "    }\n",
       "\n",
       "    .dataframe thead th {\n",
       "        text-align: right;\n",
       "    }\n",
       "</style>\n",
       "<table border=\"1\" class=\"dataframe\">\n",
       "  <thead>\n",
       "    <tr style=\"text-align: right;\">\n",
       "      <th></th>\n",
       "      <th>ev_year</th>\n",
       "      <th>ev_month</th>\n",
       "      <th>inj_tot_f</th>\n",
       "      <th>inj_tot_m</th>\n",
       "      <th>inj_tot_n</th>\n",
       "      <th>inj_tot_s</th>\n",
       "      <th>Aircraft_ID</th>\n",
       "    </tr>\n",
       "  </thead>\n",
       "  <tbody>\n",
       "    <tr>\n",
       "      <th>ev_year</th>\n",
       "      <td>1.000000</td>\n",
       "      <td>-0.010514</td>\n",
       "      <td>-0.008238</td>\n",
       "      <td>-0.001745</td>\n",
       "      <td>0.012437</td>\n",
       "      <td>0.001466</td>\n",
       "      <td>-0.026924</td>\n",
       "    </tr>\n",
       "    <tr>\n",
       "      <th>ev_month</th>\n",
       "      <td>-0.010514</td>\n",
       "      <td>1.000000</td>\n",
       "      <td>0.003844</td>\n",
       "      <td>0.009062</td>\n",
       "      <td>-0.004080</td>\n",
       "      <td>0.015064</td>\n",
       "      <td>0.012381</td>\n",
       "    </tr>\n",
       "    <tr>\n",
       "      <th>inj_tot_f</th>\n",
       "      <td>-0.008238</td>\n",
       "      <td>0.003844</td>\n",
       "      <td>1.000000</td>\n",
       "      <td>-0.036440</td>\n",
       "      <td>-0.048832</td>\n",
       "      <td>0.001980</td>\n",
       "      <td>0.038966</td>\n",
       "    </tr>\n",
       "    <tr>\n",
       "      <th>inj_tot_m</th>\n",
       "      <td>-0.001745</td>\n",
       "      <td>0.009062</td>\n",
       "      <td>-0.036440</td>\n",
       "      <td>1.000000</td>\n",
       "      <td>0.069287</td>\n",
       "      <td>0.408775</td>\n",
       "      <td>-0.003288</td>\n",
       "    </tr>\n",
       "    <tr>\n",
       "      <th>inj_tot_n</th>\n",
       "      <td>0.012437</td>\n",
       "      <td>-0.004080</td>\n",
       "      <td>-0.048832</td>\n",
       "      <td>0.069287</td>\n",
       "      <td>1.000000</td>\n",
       "      <td>0.077106</td>\n",
       "      <td>0.126461</td>\n",
       "    </tr>\n",
       "    <tr>\n",
       "      <th>inj_tot_s</th>\n",
       "      <td>0.001466</td>\n",
       "      <td>0.015064</td>\n",
       "      <td>0.001980</td>\n",
       "      <td>0.408775</td>\n",
       "      <td>0.077106</td>\n",
       "      <td>1.000000</td>\n",
       "      <td>-0.002364</td>\n",
       "    </tr>\n",
       "    <tr>\n",
       "      <th>Aircraft_ID</th>\n",
       "      <td>-0.026924</td>\n",
       "      <td>0.012381</td>\n",
       "      <td>0.038966</td>\n",
       "      <td>-0.003288</td>\n",
       "      <td>0.126461</td>\n",
       "      <td>-0.002364</td>\n",
       "      <td>1.000000</td>\n",
       "    </tr>\n",
       "  </tbody>\n",
       "</table>\n",
       "</div>"
      ],
      "text/plain": [
       "              ev_year  ev_month  inj_tot_f  inj_tot_m  inj_tot_n  inj_tot_s  \\\n",
       "ev_year      1.000000 -0.010514  -0.008238  -0.001745   0.012437   0.001466   \n",
       "ev_month    -0.010514  1.000000   0.003844   0.009062  -0.004080   0.015064   \n",
       "inj_tot_f   -0.008238  0.003844   1.000000  -0.036440  -0.048832   0.001980   \n",
       "inj_tot_m   -0.001745  0.009062  -0.036440   1.000000   0.069287   0.408775   \n",
       "inj_tot_n    0.012437 -0.004080  -0.048832   0.069287   1.000000   0.077106   \n",
       "inj_tot_s    0.001466  0.015064   0.001980   0.408775   0.077106   1.000000   \n",
       "Aircraft_ID -0.026924  0.012381   0.038966  -0.003288   0.126461  -0.002364   \n",
       "\n",
       "             Aircraft_ID  \n",
       "ev_year        -0.026924  \n",
       "ev_month        0.012381  \n",
       "inj_tot_f       0.038966  \n",
       "inj_tot_m      -0.003288  \n",
       "inj_tot_n       0.126461  \n",
       "inj_tot_s      -0.002364  \n",
       "Aircraft_ID     1.000000  "
      ]
     },
     "execution_count": 34,
     "metadata": {},
     "output_type": "execute_result"
    }
   ],
   "source": [
    "data.select_dtypes('int').corr()"
   ]
  },
  {
   "cell_type": "code",
   "execution_count": 3,
   "id": "1ebad822",
   "metadata": {},
   "outputs": [
    {
     "data": {
      "text/plain": [
       "<Axes: >"
      ]
     },
     "execution_count": 3,
     "metadata": {},
     "output_type": "execute_result"
    },
    {
     "data": {
      "image/png": "[encoded data removed]",
      "text/plain": [
       "<Figure size 640x480 with 2 Axes>"
      ]
     },
     "metadata": {},
     "output_type": "display_data"
    }
   ],
   "source": [
    "sns.heatmap(data.select_dtypes('int').corr())"
   ]
  },
  {
   "cell_type": "code",
   "execution_count": null,
   "id": "ee732a16",
   "metadata": {},
   "outputs": [],
   "source": []
  }
 ],
 "metadata": {
  "kernelspec": {
   "display_name": "erdos_summer_2025",
   "language": "python",
   "name": "python3"
  },
  "language_info": {
   "codemirror_mode": {
    "name": "ipython",
    "version": 3
   },
   "file_extension": ".py",
   "mimetype": "text/x-python",
   "name": "python",
   "nbconvert_exporter": "python",
   "pygments_lexer": "ipython3",
   "version": "3.12.10"
  }
 },
 "nbformat": 4,
 "nbformat_minor": 5
}
