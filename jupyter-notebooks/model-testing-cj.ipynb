{
 "cells": [
  {
   "cell_type": "markdown",
   "id": "301192fc",
   "metadata": {},
   "source": [
    "## Feature selection\n",
    "\n",
    "This notebook uses Random Forest models to narrow down features for predicting injury proportions and damage.\n",
    "\n",
    "__Current Approach__\n",
    "\n",
    "For predicting both injury proportion and damage:\n",
    "1. Fit a Random Forest with default parameters\n",
    "2. Drop features below a certain importance threshold\n",
    "3. Repeat steps 1 and 2 as needed"
   ]
  },
  {
   "cell_type": "code",
   "execution_count": 1,
   "id": "95805ffa",
   "metadata": {},
   "outputs": [],
   "source": [
    "import pandas as pd\n",
    "\n",
    "from sklearn.ensemble import RandomForestRegressor\n",
    "from sklearn.ensemble import RandomForestClassifier\n",
    "\n",
    "from interpret.glassbox import ExplainableBoostingRegressor\n",
    "from interpret import show"
   ]
  },
  {
   "cell_type": "code",
   "execution_count": 2,
   "id": "f6985480",
   "metadata": {},
   "outputs": [],
   "source": [
    "data = pd.read_csv('../data/ntsb/cleaned/ntsb_train_cleaned.csv')"
   ]
  },
  {
   "cell_type": "code",
   "execution_count": null,
   "id": "dcab04a3",
   "metadata": {},
   "outputs": [],
   "source": [
    "features = ['num_people_onboard', 'light_cond_DAYL',\n",
    "       'light_cond_DUSK', 'light_cond_NDRK', 'light_cond_NITE',\n",
    "       'light_cond_other/unknown', 'BroadPhaseofFlight_Air',\n",
    "       'BroadPhaseofFlight_Ground', 'BroadPhaseofFlight_Landing',\n",
    "       'BroadPhaseofFlight_Takeoff', 'BroadPhaseofFlight_other/unknown',\n",
    "       'eng_type_REC', 'eng_type_TF', 'eng_type_TP', 'eng_type_TS',\n",
    "       'eng_type_other/unknown', 'far_part_091', 'far_part_121',\n",
    "       'far_part_135', 'far_part_137', 'far_part_PUBU',\n",
    "       'far_part_other/unknown', 'acft_make_beech', 'acft_make_bell',\n",
    "       'acft_make_boeing', 'acft_make_cessna', 'acft_make_mooney',\n",
    "       'acft_make_other/unknown', 'acft_make_piper',\n",
    "       'acft_make_robinson helicopter', 'acft_category_AIR',\n",
    "       'acft_category_HELI', 'acft_category_other/unknown', 'homebuilt_N',\n",
    "       'homebuilt_Y', 'homebuilt_other/unknown', 'fixed_retractable_FIXD',\n",
    "       'fixed_retractable_RETR', 'fixed_retractable_other/unknown',\n",
    "       'second_pilot_N', 'second_pilot_Y', 'second_pilot_other/unknown']"
   ]
  },
  {
   "cell_type": "code",
   "execution_count": null,
   "id": "91906486",
   "metadata": {},
   "outputs": [],
   "source": [
    "ebr = ExplainableBoostingRegressor()\n",
    "\n",
    "ebr.fit()"
   ]
  },
  {
   "cell_type": "code",
   "execution_count": 3,
   "id": "fa43770b",
   "metadata": {},
   "outputs": [
    {
     "data": {
      "text/plain": [
       "Index(['ntsb_no', 'ev_type', 'ev_date', 'ev_time', 'ev_country', 'ev_year',\n",
       "       'ev_month', 'latitude', 'longitude', 'apt_dist', 'gust_kts',\n",
       "       'altimeter', 'ev_highest_injury', 'ev_inj_tot_f', 'ev_inj_tot_m',\n",
       "       'ev_inj_tot_n', 'ev_inj_tot_s', 'ev_inj_tot_t', 'aircraft_count',\n",
       "       'Aircraft_ID', 'event_key', 'damage', 'total_seats', 'num_eng',\n",
       "       'date_last_insp', 'acft_fatal_count', 'acft_minor_count',\n",
       "       'acft_none_count', 'acft_serious_count', 'acft_total_person_count',\n",
       "       'acft_injured_person_count', 'light_cond_DAYL', 'light_cond_DUSK',\n",
       "       'light_cond_NDRK', 'light_cond_NITE', 'light_cond_other/unknown',\n",
       "       'BroadPhaseofFlight_Air', 'BroadPhaseofFlight_Ground',\n",
       "       'BroadPhaseofFlight_Landing', 'BroadPhaseofFlight_Takeoff',\n",
       "       'BroadPhaseofFlight_other/unknown', 'eng_type_REC', 'eng_type_TF',\n",
       "       'eng_type_TP', 'eng_type_TS', 'eng_type_other/unknown', 'far_part_091',\n",
       "       'far_part_121', 'far_part_135', 'far_part_137', 'far_part_PUBU',\n",
       "       'far_part_other/unknown', 'acft_make_beech', 'acft_make_bell',\n",
       "       'acft_make_boeing', 'acft_make_cessna', 'acft_make_mooney',\n",
       "       'acft_make_other/unknown', 'acft_make_piper',\n",
       "       'acft_make_robinson helicopter', 'acft_category_AIR',\n",
       "       'acft_category_HELI', 'acft_category_other/unknown', 'homebuilt_N',\n",
       "       'homebuilt_Y', 'homebuilt_other/unknown', 'fixed_retractable_FIXD',\n",
       "       'fixed_retractable_RETR', 'fixed_retractable_other/unknown',\n",
       "       'second_pilot_N', 'second_pilot_Y', 'second_pilot_other/unknown'],\n",
       "      dtype='object')"
      ]
     },
     "execution_count": 3,
     "metadata": {},
     "output_type": "execute_result"
    }
   ],
   "source": [
    "data.columns"
   ]
  },
  {
   "cell_type": "code",
   "execution_count": null,
   "id": "cd1bed87",
   "metadata": {},
   "outputs": [],
   "source": [
    "features = ['num_people_onboard', 'light_cond_DAYL',\n",
    "       'light_cond_DUSK', 'light_cond_NDRK', 'light_cond_NITE',\n",
    "       'light_cond_other/unknown', 'BroadPhaseofFlight_Air',\n",
    "       'BroadPhaseofFlight_Ground', 'BroadPhaseofFlight_Landing',\n",
    "       'BroadPhaseofFlight_Takeoff', 'BroadPhaseofFlight_other/unknown',\n",
    "       'eng_type_REC', 'eng_type_TF', 'eng_type_TP', 'eng_type_TS',\n",
    "       'eng_type_other/unknown', 'far_part_091', 'far_part_121',\n",
    "       'far_part_135', 'far_part_137', 'far_part_PUBU',\n",
    "       'far_part_other/unknown', 'acft_make_beech', 'acft_make_bell',\n",
    "       'acft_make_boeing', 'acft_make_cessna', 'acft_make_mooney',\n",
    "       'acft_make_other/unknown', 'acft_make_piper',\n",
    "       'acft_make_robinson helicopter', 'acft_category_AIR',\n",
    "       'acft_category_HELI', 'acft_category_other/unknown', 'homebuilt_N',\n",
    "       'homebuilt_Y', 'homebuilt_other/unknown', 'fixed_retractable_FIXD',\n",
    "       'fixed_retractable_RETR', 'fixed_retractable_other/unknown',\n",
    "       'second_pilot_N', 'second_pilot_Y', 'second_pilot_other/unknown']"
   ]
  },
  {
   "cell_type": "code",
   "execution_count": null,
   "id": "6ec67f18",
   "metadata": {},
   "outputs": [],
   "source": [
    "target = 'damage'\n",
    "rf = RandomForestClassifier()\n",
    "\n",
    "data_inj_prop_known = data.loc[~data[target].isna()]\n",
    "\n",
    "X = data_inj_prop_known[features]\n",
    "y = data_inj_prop_known[target]"
   ]
  },
  {
   "cell_type": "code",
   "execution_count": null,
   "id": "f4450659",
   "metadata": {},
   "outputs": [],
   "source": [
    "rf.fit(X, y)\n",
    "\n",
    "feature_importances = {}\n",
    "\n",
    "for i, feature in enumerate(features):\n",
    "    feature_importances[feature] = rf.feature_importances_[i]"
   ]
  },
  {
   "cell_type": "code",
   "execution_count": null,
   "id": "41b39308",
   "metadata": {},
   "outputs": [],
   "source": [
    "#importance threshold for keeping variable\n",
    "# alpha = np.arange(15)/100\n",
    "\n",
    "# for a in alpha:\n",
    "#    important_dummies = {item for item in feature_importances.items() if item[1] > a}\n",
    "#    print(f'Importance threshold {a} -- {len(important_dummies)} variables')"
   ]
  },
  {
   "cell_type": "code",
   "execution_count": null,
   "id": "2a454fd1",
   "metadata": {},
   "outputs": [],
   "source": [
    "# important_features = {item for item in feature_importances.items() if item[1] > 0.02}\n",
    "# important_features"
   ]
  },
  {
   "cell_type": "code",
   "execution_count": null,
   "id": "b32d668f",
   "metadata": {},
   "outputs": [],
   "source": [
    "important_features = [feature for feature in feature_importances.keys() if feature_importances[feature] > 0.02]\n",
    "# important_features"
   ]
  },
  {
   "cell_type": "code",
   "execution_count": null,
   "id": "aeb408f8",
   "metadata": {},
   "outputs": [
    {
     "data": {
      "text/plain": [
       "{'num_people_onboard': np.float64(0.238190143955991),\n",
       " 'BroadPhaseofFlight_Air': np.float64(0.05961742533296121),\n",
       " 'BroadPhaseofFlight_Landing': np.float64(0.03017209361354894),\n",
       " 'eng_type_REC': np.float64(0.03703450897600033),\n",
       " 'eng_type_other/unknown': np.float64(0.04531399126858635),\n",
       " 'far_part_091': np.float64(0.04125019361945325),\n",
       " 'far_part_other/unknown': np.float64(0.07981784024221317),\n",
       " 'acft_make_other/unknown': np.float64(0.025517785583144416),\n",
       " 'acft_category_other/unknown': np.float64(0.03696840746069401),\n",
       " 'homebuilt_other/unknown': np.float64(0.12584339568559513),\n",
       " 'fixed_retractable_FIXD': np.float64(0.02802089848689157),\n",
       " 'fixed_retractable_RETR': np.float64(0.01912664684697265),\n",
       " 'fixed_retractable_other/unknown': np.float64(0.1679666199795361),\n",
       " 'second_pilot_N': np.float64(0.02750698711781947),\n",
       " 'second_pilot_other/unknown': np.float64(0.037653061830592464)}"
      ]
     },
     "metadata": {},
     "output_type": "display_data"
    }
   ],
   "source": [
    "X_new = data_inj_prop_known[important_features]\n",
    "\n",
    "rf.fit(X_new, y)\n",
    "\n",
    "new_importances = {}\n",
    "\n",
    "for i, feature in enumerate(important_features):\n",
    "    new_importances[feature] = rf.feature_importances_[i]\n",
    "\n",
    "new_importances"
   ]
  },
  {
   "cell_type": "markdown",
   "id": "80160ac6",
   "metadata": {},
   "source": [
    "### Note\n",
    "\n",
    "Nice package from most recent problem set (lecture 12)\n",
    "`from interpret.glassbox import ExplainableBoostingRegressor`\n",
    "\n",
    "See the problem set "
   ]
  },
  {
   "cell_type": "markdown",
   "id": "3478e259",
   "metadata": {},
   "source": []
  }
 ],
 "metadata": {
  "kernelspec": {
   "display_name": "erdos_summer_2025",
   "language": "python",
   "name": "python3"
  },
  "language_info": {
   "codemirror_mode": {
    "name": "ipython",
    "version": 3
   },
   "file_extension": ".py",
   "mimetype": "text/x-python",
   "name": "python",
   "nbconvert_exporter": "python",
   "pygments_lexer": "ipython3",
   "version": "3.12.11"
  }
 },
 "nbformat": 4,
 "nbformat_minor": 5
}
