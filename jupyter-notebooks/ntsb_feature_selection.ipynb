{
 "cells": [
  {
   "cell_type": "markdown",
   "id": "301192fc",
   "metadata": {},
   "source": [
    "## Feature selection\n",
    "\n",
    "This notebook uses Random Forest models to narrow down features for predicting injury proportions and damage.\n",
    "\n",
    "__Current Approach__\n",
    "\n",
    "For predicting both injury proportion and damage:\n",
    "1. Fit a Random Forest with default parameters\n",
    "2. Drop features below a certain importance threshold\n",
    "3. Repeat steps 1 and 2 as needed"
   ]
  },
  {
   "cell_type": "code",
   "execution_count": null,
   "id": "95805ffa",
   "metadata": {},
   "outputs": [],
   "source": [
    "from sklearn.ensemble import RandomForestRegressor\n",
    "from sklearn.ensemble import RandomForestClassifier"
   ]
  },
  {
   "cell_type": "code",
   "execution_count": null,
   "id": "fa43770b",
   "metadata": {},
   "outputs": [
    {
     "data": {
      "text/plain": [
       "Index(['ntsb_no', 'ev_type', 'ev_country', 'ev_year', 'ev_month', 'latitude',\n",
       "       'longitude', 'apt_dist', 'gust_kts', 'altimeter', 'ev_highest_injury',\n",
       "       'inj_f_grnd', 'inj_m_grnd', 'inj_s_grnd', 'inj_tot_f', 'inj_tot_m',\n",
       "       'inj_tot_n', 'inj_tot_s', 'inj_tot_t', 'aircraft_count', 'Aircraft_ID',\n",
       "       'event_key', 'damage', 'acft_model', 'total_seats', 'num_eng',\n",
       "       'date_last_insp', 'Fatal_count', 'Minor_count', 'None_count',\n",
       "       'Serious_count', 'total_person_count', 'injured_person_count',\n",
       "       'ground_injury_total', 'light_cond_DAYL', 'light_cond_DUSK',\n",
       "       'light_cond_NDRK', 'light_cond_NITE', 'light_cond_other/unknown',\n",
       "       'BroadPhaseofFlight_Air', 'BroadPhaseofFlight_Ground',\n",
       "       'BroadPhaseofFlight_Landing', 'BroadPhaseofFlight_Takeoff',\n",
       "       'BroadPhaseofFlight_other/unknown', 'eng_type_REC', 'eng_type_TF',\n",
       "       'eng_type_TP', 'eng_type_TS', 'eng_type_other/unknown', 'far_part_091',\n",
       "       'far_part_121', 'far_part_135', 'far_part_137', 'far_part_PUBU',\n",
       "       'far_part_other/unknown', 'acft_make_beech', 'acft_make_bell',\n",
       "       'acft_make_boeing', 'acft_make_cessna', 'acft_make_mooney',\n",
       "       'acft_make_other/unknown', 'acft_make_piper',\n",
       "       'acft_make_robinson helicopter', 'acft_category_AIR',\n",
       "       'acft_category_HELI', 'acft_category_other/unknown', 'homebuilt_N',\n",
       "       'homebuilt_Y', 'homebuilt_other/unknown', 'fixed_retractable_FIXD',\n",
       "       'fixed_retractable_RETR', 'fixed_retractable_other/unknown',\n",
       "       'second_pilot_N', 'second_pilot_Y', 'second_pilot_other/unknown',\n",
       "       'num_people_onboard', 'prop_onboard_inj', 'prop_onboard_inj_m',\n",
       "       'prop_onboard_inj_s', 'prop_onboard_inj_f'],\n",
       "      dtype='object')"
      ]
     },
     "metadata": {},
     "output_type": "display_data"
    }
   ],
   "source": [
    "data.columns"
   ]
  },
  {
   "cell_type": "code",
   "execution_count": null,
   "id": "cd1bed87",
   "metadata": {},
   "outputs": [],
   "source": [
    "features = ['num_people_onboard', 'light_cond_DAYL',\n",
    "       'light_cond_DUSK', 'light_cond_NDRK', 'light_cond_NITE',\n",
    "       'light_cond_other/unknown', 'BroadPhaseofFlight_Air',\n",
    "       'BroadPhaseofFlight_Ground', 'BroadPhaseofFlight_Landing',\n",
    "       'BroadPhaseofFlight_Takeoff', 'BroadPhaseofFlight_other/unknown',\n",
    "       'eng_type_REC', 'eng_type_TF', 'eng_type_TP', 'eng_type_TS',\n",
    "       'eng_type_other/unknown', 'far_part_091', 'far_part_121',\n",
    "       'far_part_135', 'far_part_137', 'far_part_PUBU',\n",
    "       'far_part_other/unknown', 'acft_make_beech', 'acft_make_bell',\n",
    "       'acft_make_boeing', 'acft_make_cessna', 'acft_make_mooney',\n",
    "       'acft_make_other/unknown', 'acft_make_piper',\n",
    "       'acft_make_robinson helicopter', 'acft_category_AIR',\n",
    "       'acft_category_HELI', 'acft_category_other/unknown', 'homebuilt_N',\n",
    "       'homebuilt_Y', 'homebuilt_other/unknown', 'fixed_retractable_FIXD',\n",
    "       'fixed_retractable_RETR', 'fixed_retractable_other/unknown',\n",
    "       'second_pilot_N', 'second_pilot_Y', 'second_pilot_other/unknown']"
   ]
  },
  {
   "cell_type": "code",
   "execution_count": null,
   "id": "6ec67f18",
   "metadata": {},
   "outputs": [],
   "source": [
    "target = 'damage'\n",
    "rf = RandomForestClassifier()\n",
    "\n",
    "data_inj_prop_known = data.loc[~data[target].isna()]\n",
    "\n",
    "X = data_inj_prop_known[features]\n",
    "y = data_inj_prop_known[target]"
   ]
  },
  {
   "cell_type": "code",
   "execution_count": null,
   "id": "f4450659",
   "metadata": {},
   "outputs": [],
   "source": [
    "rf.fit(X, y)\n",
    "\n",
    "feature_importances = {}\n",
    "\n",
    "for i, feature in enumerate(features):\n",
    "    feature_importances[feature] = rf.feature_importances_[i]"
   ]
  },
  {
   "cell_type": "code",
   "execution_count": null,
   "id": "41b39308",
   "metadata": {},
   "outputs": [],
   "source": [
    "#importance threshold for keeping variable\n",
    "# alpha = np.arange(15)/100\n",
    "\n",
    "# for a in alpha:\n",
    "#    important_dummies = {item for item in feature_importances.items() if item[1] > a}\n",
    "#    print(f'Importance threshold {a} -- {len(important_dummies)} variables')"
   ]
  },
  {
   "cell_type": "code",
   "execution_count": null,
   "id": "2a454fd1",
   "metadata": {},
   "outputs": [],
   "source": [
    "# important_features = {item for item in feature_importances.items() if item[1] > 0.02}\n",
    "# important_features"
   ]
  },
  {
   "cell_type": "code",
   "execution_count": null,
   "id": "b32d668f",
   "metadata": {},
   "outputs": [],
   "source": [
    "important_features = [feature for feature in feature_importances.keys() if feature_importances[feature] > 0.02]\n",
    "# important_features"
   ]
  },
  {
   "cell_type": "code",
   "execution_count": null,
   "id": "aeb408f8",
   "metadata": {},
   "outputs": [
    {
     "data": {
      "text/plain": [
       "{'num_people_onboard': np.float64(0.238190143955991),\n",
       " 'BroadPhaseofFlight_Air': np.float64(0.05961742533296121),\n",
       " 'BroadPhaseofFlight_Landing': np.float64(0.03017209361354894),\n",
       " 'eng_type_REC': np.float64(0.03703450897600033),\n",
       " 'eng_type_other/unknown': np.float64(0.04531399126858635),\n",
       " 'far_part_091': np.float64(0.04125019361945325),\n",
       " 'far_part_other/unknown': np.float64(0.07981784024221317),\n",
       " 'acft_make_other/unknown': np.float64(0.025517785583144416),\n",
       " 'acft_category_other/unknown': np.float64(0.03696840746069401),\n",
       " 'homebuilt_other/unknown': np.float64(0.12584339568559513),\n",
       " 'fixed_retractable_FIXD': np.float64(0.02802089848689157),\n",
       " 'fixed_retractable_RETR': np.float64(0.01912664684697265),\n",
       " 'fixed_retractable_other/unknown': np.float64(0.1679666199795361),\n",
       " 'second_pilot_N': np.float64(0.02750698711781947),\n",
       " 'second_pilot_other/unknown': np.float64(0.037653061830592464)}"
      ]
     },
     "metadata": {},
     "output_type": "display_data"
    }
   ],
   "source": [
    "X_new = data_inj_prop_known[important_features]\n",
    "\n",
    "rf.fit(X_new, y)\n",
    "\n",
    "new_importances = {}\n",
    "\n",
    "for i, feature in enumerate(important_features):\n",
    "    new_importances[feature] = rf.feature_importances_[i]\n",
    "\n",
    "new_importances"
   ]
  }
 ],
 "metadata": {
  "language_info": {
   "name": "python"
  }
 },
 "nbformat": 4,
 "nbformat_minor": 5
}
