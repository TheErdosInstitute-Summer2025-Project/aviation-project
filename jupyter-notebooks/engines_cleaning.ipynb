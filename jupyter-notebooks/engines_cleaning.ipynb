{
 "cells": [
  {
   "cell_type": "markdown",
   "id": "77210aa9",
   "metadata": {},
   "source": [
    "# Read & Prepare 'Engine' Dataset for Joining"
   ]
  },
  {
   "cell_type": "code",
   "execution_count": 1,
   "id": "6705a388",
   "metadata": {},
   "outputs": [],
   "source": [
    "import pandas as pd"
   ]
  },
  {
   "cell_type": "code",
   "execution_count": null,
   "id": "d7f3fff0",
   "metadata": {},
   "outputs": [],
   "source": [
    "data = pd.read_csv('../data/ntsb/ntsb_engines.csv',usecols=['ev_id','Aircraft_Key','eng_type','eng_no'])\n",
    "data['accident_id'] = data['ev_id'].astype(str) + '_' + data['Aircraft_Key'].astype(str)\n",
    "data = data[data['eng_no']==1].drop(columns='eng_no')\n",
    "\n"
   ]
  },
  {
   "cell_type": "code",
   "execution_count": 28,
   "id": "262ba536",
   "metadata": {},
   "outputs": [],
   "source": [
    "engine_dummies = pd.get_dummies(data['eng_type'],dtype=int,prefix='engine')"
   ]
  },
  {
   "cell_type": "code",
   "execution_count": 37,
   "id": "694cee98",
   "metadata": {},
   "outputs": [
    {
     "data": {
      "text/plain": [
       "engine_ELEC       26\n",
       "engine_GTFN       14\n",
       "engine_HR          1\n",
       "engine_LR          2\n",
       "engine_NONE       33\n",
       "engine_REC     19283\n",
       "engine_TF       1035\n",
       "engine_TJ        154\n",
       "engine_TP       1324\n",
       "engine_TS       1202\n",
       "engine_UNK        31\n",
       "dtype: int64"
      ]
     },
     "execution_count": 37,
     "metadata": {},
     "output_type": "execute_result"
    }
   ],
   "source": [
    "engine_dummies.sum()"
   ]
  },
  {
   "cell_type": "markdown",
   "id": "c07f431c",
   "metadata": {},
   "source": [
    "#### Note:\n",
    "Looking above, it's worth considering how useful these will be given that we have only ~23k total observations over 25 years. Also, some only have a single instance, so we might be well-suited to pare down to those above a certain threshold - say, 1,000?"
   ]
  },
  {
   "cell_type": "code",
   "execution_count": 32,
   "id": "c6b4abfb",
   "metadata": {},
   "outputs": [],
   "source": [
    "export = pd.concat([data['accident_id'],engine_dummies],axis=1)"
   ]
  },
  {
   "cell_type": "code",
   "execution_count": 38,
   "id": "1378a4b3",
   "metadata": {},
   "outputs": [],
   "source": [
    "export.to_csv('../data/ntsb/cleaned/engine_data.csv')"
   ]
  }
 ],
 "metadata": {
  "kernelspec": {
   "display_name": "erdos_summer_2025",
   "language": "python",
   "name": "python3"
  },
  "language_info": {
   "codemirror_mode": {
    "name": "ipython",
    "version": 3
   },
   "file_extension": ".py",
   "mimetype": "text/x-python",
   "name": "python",
   "nbconvert_exporter": "python",
   "pygments_lexer": "ipython3",
   "version": "3.12.10"
  }
 },
 "nbformat": 4,
 "nbformat_minor": 5
}
